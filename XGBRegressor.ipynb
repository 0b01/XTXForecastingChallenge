{
 "cells": [
  {
   "cell_type": "code",
   "execution_count": 1,
   "metadata": {},
   "outputs": [],
   "source": [
    "import numpy as np\n",
    "import pandas as pd\n",
    "import matplotlib.pyplot as plt\n",
    "%matplotlib inline\n",
    "\n",
    "\n",
    "pd.options.display.max_columns=100"
   ]
  },
  {
   "cell_type": "code",
   "execution_count": 2,
   "metadata": {},
   "outputs": [],
   "source": [
    "df = pd.read_csv(\"data-training.csv\")\n",
    "df.iloc[:,15:30] = df.iloc[:,15:30].fillna(0)\n",
    "for i in range(1,15):\n",
    "    for x in df.loc[df.iloc[:,i].isna()==True].index:\n",
    "        df.iloc[x,i] = df.iloc[x,i-1]+0.5"
   ]
  },
  {
   "cell_type": "code",
   "execution_count": 3,
   "metadata": {},
   "outputs": [],
   "source": [
    "for i in range(15):\n",
    "    df['orderImbalance'+str(i)] = (df['askSize'+str(i)] - df['bidSize'+str(i)]) / (df['askSize'+str(i)] + df['bidSize'+str(i)])"
   ]
  },
  {
   "cell_type": "code",
   "execution_count": 4,
   "metadata": {
    "scrolled": true
   },
   "outputs": [],
   "source": [
    "featureList = []\n",
    "\n",
    "for x in range(3):\n",
    "    featureList += ['askSize'+str(x),'bidSize'+str(x),'orderImbalance'+str(x)]\n",
    "    \n",
    "featureList += ['y']"
   ]
  },
  {
   "cell_type": "code",
   "execution_count": 5,
   "metadata": {},
   "outputs": [],
   "source": [
    "df2 = df[featureList].drop_duplicates()\n",
    "y  = df2['y'].values.reshape(-1,)\n",
    "X = df2.drop('y',axis=1)\n",
    "X = X.values.reshape(-1,X.shape[1])"
   ]
  },
  {
   "cell_type": "code",
   "execution_count": null,
   "metadata": {},
   "outputs": [],
   "source": [
    "fig, ax = plt.subplots()\n",
    "\n",
    "x = 10\n",
    "plt.plot(df.iloc[x,0:15],df.iloc[x,15:30],\"-o\")\n",
    "plt.plot(df.iloc[x,30:45],df.iloc[x,45:60],\"-o\")\n",
    "\n",
    "import plotly.graph_objects as go\n",
    "import numpy as np\n",
    "\n",
    "# Create figure\n",
    "fig = go.Figure()\n",
    "\n",
    "# Add traces, one for each slider step\n",
    "for step in np.arange(0, 1000, 1):\n",
    "    fig.add_trace(\n",
    "        go.Scatter(\n",
    "            visible=False,\n",
    "            mode=\"lines+markers\",\n",
    "            name=\"𝜈 = \" + str(step),\n",
    "            x=df.iloc[step,rateIndexes],\n",
    "            y=df.iloc[step,volumeIndexes]))\n",
    "\n",
    "\n",
    "# Make 10th trace visible\n",
    "fig.data[0].visible = True\n",
    "\n",
    "# Create and add slider\n",
    "steps = []\n",
    "for i in range(len(fig.data)):\n",
    "    step = dict(\n",
    "        method=\"restyle\",\n",
    "        args=[\"visible\", [False] * len(fig.data)],\n",
    "    )\n",
    "    step[\"args\"][1][i] = True  # Toggle i'th trace to \"visible\"\n",
    "    steps.append(step)\n",
    "\n",
    "sliders = [dict(\n",
    "    active=10,\n",
    "    currentvalue={\"prefix\": \"Frequency: \"},\n",
    "    pad={\"t\": 50},\n",
    "    steps=steps\n",
    ")]\n",
    "\n",
    "fig.update_layout(\n",
    "    sliders=sliders\n",
    ")\n",
    "\n",
    "fig.show()"
   ]
  },
  {
   "cell_type": "code",
   "execution_count": null,
   "metadata": {
    "scrolled": true
   },
   "outputs": [],
   "source": [
    "(df['askRate0'].diff(10)).corr(df['y'])"
   ]
  },
  {
   "cell_type": "code",
   "execution_count": null,
   "metadata": {},
   "outputs": [],
   "source": [
    "(df['askRate0'] >= (df['askRate5']-df['askRate5'].diff(10))).sum()"
   ]
  },
  {
   "cell_type": "code",
   "execution_count": null,
   "metadata": {},
   "outputs": [],
   "source": [
    "test = df[['askSize0','bidSize0','askSize1','bidSize1','askSize2','bidSize2',\n",
    "           'askSize3','bidSize3','askSize4','bidSize4','askSize5','bidSize5','y']]\n"
   ]
  },
  {
   "cell_type": "code",
   "execution_count": null,
   "metadata": {},
   "outputs": [],
   "source": [
    "test = test.drop_duplicates()"
   ]
  },
  {
   "cell_type": "code",
   "execution_count": null,
   "metadata": {},
   "outputs": [],
   "source": [
    "X  = test.drop('y',axis=1)\n",
    "y = test['y'].values.reshape(-1,1)"
   ]
  },
  {
   "cell_type": "code",
   "execution_count": null,
   "metadata": {},
   "outputs": [],
   "source": [
    "from sklearn.model_selection import train_test_split\n",
    "\n",
    "X_train, X_test, y_train, y_test = train_test_split(X,y,test_size=0.5,shuffle=True)"
   ]
  },
  {
   "cell_type": "code",
   "execution_count": null,
   "metadata": {},
   "outputs": [],
   "source": [
    "feats = ['askSize0','bidSize0','askRate0','bidRate0']\n",
    "\n",
    "for x in feats:\n",
    "    test[x+str(\"-10\")]  = test[x]-test[x].diff(10)"
   ]
  },
  {
   "cell_type": "code",
   "execution_count": null,
   "metadata": {},
   "outputs": [],
   "source": [
    "test['askRate0Diff10'] = test['askRate0'].diff(10)\n",
    "test['bidRate0Diff10'] = test['bidRate0'].diff(10)\n",
    "test['askSize0_-10'] = test['askSize0']-test['askSize0'].diff(10)\n",
    "test['bidSize0_-10'] = test['bidSize0']-test['bidSize0'].diff(10)"
   ]
  },
  {
   "cell_type": "code",
   "execution_count": null,
   "metadata": {},
   "outputs": [],
   "source": []
  },
  {
   "cell_type": "code",
   "execution_count": null,
   "metadata": {},
   "outputs": [],
   "source": [
    "test = test.drop_duplicates()"
   ]
  },
  {
   "cell_type": "code",
   "execution_count": null,
   "metadata": {
    "scrolled": true
   },
   "outputs": [],
   "source": [
    "test.columns"
   ]
  },
  {
   "cell_type": "code",
   "execution_count": null,
   "metadata": {},
   "outputs": [],
   "source": [
    "len(['askSize0', 'bidSize0', 'askSize1', 'bidSize1', 'askSize2', 'bidSize2',\n",
    "       'askSize3', 'bidSize3', 'askSize4', 'bidSize4', 'askSize5', 'bidSize5',\n",
    "       'askRate0', 'bidRate0', 'y', 'askRate0Diff10', 'bidRate0Diff10',\n",
    "       'askSize0_-10', 'bidSize0_-10'])"
   ]
  },
  {
   "cell_type": "code",
   "execution_count": 6,
   "metadata": {
    "scrolled": false
   },
   "outputs": [
    {
     "name": "stderr",
     "output_type": "stream",
     "text": [
      "ERROR:root:Internal Python error in the inspect module.\n",
      "Below is the traceback from this internal error.\n",
      "\n"
     ]
    },
    {
     "name": "stdout",
     "output_type": "stream",
     "text": [
      "Traceback (most recent call last):\n",
      "  File \"/usr/local/lib/python3.7/site-packages/IPython/core/interactiveshell.py\", line 3326, in run_code\n",
      "    exec(code_obj, self.user_global_ns, self.user_ns)\n",
      "  File \"<ipython-input-6-9669d44759b6>\", line 9, in <module>\n",
      "    scores = cross_val_score(xgbr,X,y,cv=2, scoring='r2')\n",
      "  File \"/usr/local/lib/python3.7/site-packages/sklearn/model_selection/_validation.py\", line 391, in cross_val_score\n",
      "    error_score=error_score)\n",
      "  File \"/usr/local/lib/python3.7/site-packages/sklearn/model_selection/_validation.py\", line 232, in cross_validate\n",
      "    for train, test in cv.split(X, y, groups))\n",
      "  File \"/usr/local/lib/python3.7/site-packages/joblib/parallel.py\", line 921, in __call__\n",
      "    if self.dispatch_one_batch(iterator):\n",
      "  File \"/usr/local/lib/python3.7/site-packages/joblib/parallel.py\", line 759, in dispatch_one_batch\n",
      "    self._dispatch(tasks)\n",
      "  File \"/usr/local/lib/python3.7/site-packages/joblib/parallel.py\", line 716, in _dispatch\n",
      "    job = self._backend.apply_async(batch, callback=cb)\n",
      "  File \"/usr/local/lib/python3.7/site-packages/joblib/_parallel_backends.py\", line 182, in apply_async\n",
      "    result = ImmediateResult(func)\n",
      "  File \"/usr/local/lib/python3.7/site-packages/joblib/_parallel_backends.py\", line 549, in __init__\n",
      "    self.results = batch()\n",
      "  File \"/usr/local/lib/python3.7/site-packages/joblib/parallel.py\", line 225, in __call__\n",
      "    for func, args, kwargs in self.items]\n",
      "  File \"/usr/local/lib/python3.7/site-packages/joblib/parallel.py\", line 225, in <listcomp>\n",
      "    for func, args, kwargs in self.items]\n",
      "  File \"/usr/local/lib/python3.7/site-packages/sklearn/model_selection/_validation.py\", line 516, in _fit_and_score\n",
      "    estimator.fit(X_train, y_train, **fit_params)\n",
      "  File \"/usr/local/lib/python3.7/site-packages/xgboost/sklearn.py\", line 396, in fit\n",
      "    callbacks=callbacks)\n",
      "  File \"/usr/local/lib/python3.7/site-packages/xgboost/training.py\", line 216, in train\n",
      "    xgb_model=xgb_model, callbacks=callbacks)\n",
      "  File \"/usr/local/lib/python3.7/site-packages/xgboost/training.py\", line 74, in _train_internal\n",
      "    bst.update(dtrain, i, obj)\n",
      "  File \"/usr/local/lib/python3.7/site-packages/xgboost/core.py\", line 1109, in update\n",
      "    dtrain.handle))\n",
      "KeyboardInterrupt\n",
      "\n",
      "During handling of the above exception, another exception occurred:\n",
      "\n",
      "Traceback (most recent call last):\n",
      "  File \"/usr/local/lib/python3.7/site-packages/IPython/core/interactiveshell.py\", line 2040, in showtraceback\n",
      "    stb = value._render_traceback_()\n",
      "AttributeError: 'KeyboardInterrupt' object has no attribute '_render_traceback_'\n",
      "\n",
      "During handling of the above exception, another exception occurred:\n",
      "\n",
      "Traceback (most recent call last):\n",
      "  File \"/usr/local/lib/python3.7/site-packages/IPython/core/ultratb.py\", line 1101, in get_records\n",
      "    return _fixed_getinnerframes(etb, number_of_lines_of_context, tb_offset)\n",
      "  File \"/usr/local/lib/python3.7/site-packages/IPython/core/ultratb.py\", line 319, in wrapped\n",
      "    return f(*args, **kwargs)\n",
      "  File \"/usr/local/lib/python3.7/site-packages/IPython/core/ultratb.py\", line 353, in _fixed_getinnerframes\n",
      "    records = fix_frame_records_filenames(inspect.getinnerframes(etb, context))\n",
      "  File \"/usr/local/Cellar/python/3.7.4/Frameworks/Python.framework/Versions/3.7/lib/python3.7/inspect.py\", line 1502, in getinnerframes\n",
      "    frameinfo = (tb.tb_frame,) + getframeinfo(tb, context)\n",
      "  File \"/usr/local/Cellar/python/3.7.4/Frameworks/Python.framework/Versions/3.7/lib/python3.7/inspect.py\", line 1460, in getframeinfo\n",
      "    filename = getsourcefile(frame) or getfile(frame)\n",
      "  File \"/usr/local/Cellar/python/3.7.4/Frameworks/Python.framework/Versions/3.7/lib/python3.7/inspect.py\", line 696, in getsourcefile\n",
      "    if getattr(getmodule(object, filename), '__loader__', None) is not None:\n",
      "  File \"/usr/local/Cellar/python/3.7.4/Frameworks/Python.framework/Versions/3.7/lib/python3.7/inspect.py\", line 742, in getmodule\n",
      "    os.path.realpath(f)] = module.__name__\n",
      "  File \"/usr/local/Cellar/python/3.7.4/Frameworks/Python.framework/Versions/3.7/lib/python3.7/posixpath.py\", line 395, in realpath\n",
      "    path, ok = _joinrealpath(filename[:0], filename, {})\n",
      "  File \"/usr/local/Cellar/python/3.7.4/Frameworks/Python.framework/Versions/3.7/lib/python3.7/posixpath.py\", line 428, in _joinrealpath\n",
      "    newpath = join(path, name)\n",
      "  File \"/usr/local/Cellar/python/3.7.4/Frameworks/Python.framework/Versions/3.7/lib/python3.7/posixpath.py\", line 86, in join\n",
      "    for b in map(os.fspath, p):\n",
      "KeyboardInterrupt\n"
     ]
    },
    {
     "ename": "KeyboardInterrupt",
     "evalue": "",
     "output_type": "error",
     "traceback": [
      "\u001b[0;31m---------------------------------------------------------------------------\u001b[0m"
     ]
    }
   ],
   "source": [
    "import xgboost as xgb\n",
    "from xgboost import XGBRegressor\n",
    "xgbr = XGBRegressor(n_estimators=100,objective='reg:squarederror',\n",
    "                    max_depth=4,base_score=0,)\n",
    "\n",
    "\n",
    "\n",
    "from sklearn.model_selection import cross_val_score\n",
    "scores = cross_val_score(xgbr,X,y,cv=2, scoring='r2')\n",
    "scores.mean()\n",
    "\n",
    "\n"
   ]
  },
  {
   "cell_type": "code",
   "execution_count": null,
   "metadata": {
    "scrolled": true
   },
   "outputs": [],
   "source": [
    "import xgboost as xgb\n",
    "xgbr = XGBRegressor(n_estimators=100,objective='reg:squarederror',\n",
    "                    max_depth=4,base_score=0,)\n",
    "xgbr.fit(X,y)\n",
    "\n",
    "xgb.plot_importance(xbgr)"
   ]
  },
  {
   "cell_type": "code",
   "execution_count": null,
   "metadata": {},
   "outputs": [],
   "source": [
    "df['price'] = (df['askRate0'] + df['bidRate0']) / 2"
   ]
  },
  {
   "cell_type": "code",
   "execution_count": null,
   "metadata": {},
   "outputs": [],
   "source": [
    "df['price'].rolling(1000).mean().corr(df['y'])"
   ]
  },
  {
   "cell_type": "code",
   "execution_count": null,
   "metadata": {},
   "outputs": [],
   "source": [
    "df.loc[df['askRate6'] == df['askRate8']]"
   ]
  },
  {
   "cell_type": "code",
   "execution_count": null,
   "metadata": {
    "scrolled": true
   },
   "outputs": [],
   "source": [
    "xgb.plot_importance(xgbr)"
   ]
  },
  {
   "cell_type": "code",
   "execution_count": null,
   "metadata": {},
   "outputs": [],
   "source": [
    "xgbr.score(X_test,y_test)"
   ]
  },
  {
   "cell_type": "code",
   "execution_count": null,
   "metadata": {
    "scrolled": true
   },
   "outputs": [],
   "source": [
    "xgbr.score(X_train,y_train)"
   ]
  },
  {
   "cell_type": "code",
   "execution_count": null,
   "metadata": {},
   "outputs": [],
   "source": [
    "xgbr.fit(X_test,y_test)"
   ]
  },
  {
   "cell_type": "code",
   "execution_count": null,
   "metadata": {
    "scrolled": true
   },
   "outputs": [],
   "source": [
    "import xgboost as xgb\n",
    "from xgboost import XGBRegressor\n",
    "xgbr = XGBRegressor(n_estimators=100,objective='reg:squarederror',\n",
    "                    max_depth=4,base_score=0,)\n",
    "\n",
    "y = test['y'].values.reshape(-1,)\n",
    "X = test.drop('y',axis=1).values.reshape(-1,12)\n",
    "xgbr.fit(X,y)\n",
    "# from sklearn.model_selection import cross_val_score\n",
    "# scores = cross_val_score(xgbr,X,y,cv=2, scoring='r2')\n",
    "# scores.mean()\n",
    "\n",
    "\n"
   ]
  },
  {
   "cell_type": "code",
   "execution_count": null,
   "metadata": {
    "scrolled": true
   },
   "outputs": [],
   "source": [
    "\n",
    "fig, ax = plt.subplots(figsize=(30, 30))\n",
    "xgb.plot_importance(xgbr,ax=ax)"
   ]
  },
  {
   "cell_type": "code",
   "execution_count": null,
   "metadata": {
    "scrolled": false
   },
   "outputs": [],
   "source": [
    "xgbr.score(df.iloc[:,list(range(15,21))+list(range(45,51))].values.reshape(-1,12), df['y'])"
   ]
  },
  {
   "cell_type": "code",
   "execution_count": null,
   "metadata": {},
   "outputs": [],
   "source": [
    "from sklearn.externals import joblib\n",
    "\n",
    "joblib.dump(xgbr,\"model.joblib\")"
   ]
  },
  {
   "cell_type": "code",
   "execution_count": null,
   "metadata": {},
   "outputs": [],
   "source": [
    "import pickle"
   ]
  },
  {
   "cell_type": "code",
   "execution_count": null,
   "metadata": {},
   "outputs": [],
   "source": [
    "with open(\"model.pkl\",\"rb\") as m:\n",
    "    model = pickle.load(m)"
   ]
  },
  {
   "cell_type": "code",
   "execution_count": null,
   "metadata": {},
   "outputs": [],
   "source": [
    "fig, ax = plt.subplots(figsize=(30,30))\n",
    "xgb.plot_tree(xgbr,ax=ax)"
   ]
  },
  {
   "cell_type": "code",
   "execution_count": null,
   "metadata": {},
   "outputs": [],
   "source": [
    "xgbr.fit(df[features2].values.reshape(-1,len(features2)),df['y'].values.reshape(-1,))"
   ]
  },
  {
   "cell_type": "code",
   "execution_count": null,
   "metadata": {},
   "outputs": [],
   "source": [
    "df['volume'] = 0\n",
    "df['vwap'] = 0\n",
    "\n",
    "#volume gets taken off the top\n",
    "\n",
    "#new bid order >= askRate0, and q < askSize0_-1\n",
    "for x in df.loc[(df['askRate0'].diff(1) == 0) & (df['askSize0'].diff(1) < 0)].index:\n",
    "    df.loc[x,'volume'] = (df.loc[x-1,'askSize0'] - df.loc[x,'askSize0'])\n",
    "    df.loc[x,'vwap'] += df.loc[x,'askRate0'] * (df.loc[x-1,'askSize0'] - df.loc[x,'askSize0'])\n",
    "\n",
    "#new ask order <= bidRate0 and q < bidSize0_-1\n",
    "for x in df.loc[(df['bidRate0'].diff(1) == 0) & (df['bidSize0'].diff(1) < 0)].index:\n",
    "    df.loc[x,'volume'] = (df.loc[x-1,'bidSize0'] - df.loc[x,'bidSize0'])\n",
    "    df.loc[x,'vwap'] += df.loc[x,'bidRate0'] * (df.loc[x-1,'bidSize0'] - df.loc[x,'bidSize0'])"
   ]
  },
  {
   "cell_type": "code",
   "execution_count": null,
   "metadata": {},
   "outputs": [],
   "source": [
    "df['vwap'] /= df['volume']"
   ]
  },
  {
   "cell_type": "code",
   "execution_count": null,
   "metadata": {},
   "outputs": [],
   "source": [
    "df['price'] = (df['askRate0'] + df['bidRate0']) / 2"
   ]
  },
  {
   "cell_type": "code",
   "execution_count": null,
   "metadata": {},
   "outputs": [],
   "source": [
    "df['volume'].hist(bins=100)"
   ]
  },
  {
   "cell_type": "code",
   "execution_count": null,
   "metadata": {},
   "outputs": [],
   "source": [
    "df['vwap2'] = df['vwap']\n",
    "df['vwap2'] = df['vwap2'].fillna(method=\"ffill\")"
   ]
  },
  {
   "cell_type": "code",
   "execution_count": null,
   "metadata": {},
   "outputs": [],
   "source": [
    "(df['vwap']-df['price']).plot()"
   ]
  },
  {
   "cell_type": "code",
   "execution_count": null,
   "metadata": {},
   "outputs": [],
   "source": [
    "df['upMomentum'] = ((df['bidRate0'].diff(1) > 0)).rolling(10).sum()"
   ]
  },
  {
   "cell_type": "code",
   "execution_count": null,
   "metadata": {},
   "outputs": [],
   "source": [
    "df['downMomentum'] = ((df['askRate0'].diff(1) < 0)).rolling(10).sum()"
   ]
  },
  {
   "cell_type": "code",
   "execution_count": null,
   "metadata": {},
   "outputs": [],
   "source": [
    "temp = np.array(df)\n",
    "for x in range(1,temp.shape[0]):\n",
    "    tempVolume = 0\n",
    "    tempVWAP = 0\n",
    "    \n",
    "    \n",
    "    if temp[x,0] >= temp[x-1,0]:\n",
    "        for i in range(1,15):\n",
    "            if temp[x,0] < temp[x-1,i]:\n",
    "                break\n",
    "            \n",
    "        if temp[x,0] == temp[x-1,i-1]:\n",
    "            tempVolume += np.sum(temp[x-1,15:14+i])\n",
    "            tempVolume += max(0,temp[x,15]-temp[x-1,14+i])\n",
    "            tempVWAP += np.dot(temp[x-1,15:14+i],temp[x-1,0:i-1]) + temp[x-1,i-1] * max(0,temp[x,15]-temp[x-1,15+i])\n",
    "            \n",
    "        else:\n",
    "            tempVolume += np.sum(temp[x-1,15:15+i])\n",
    "            tempVWAP += np.dot(temp[x-1,0:i],temp[x-1,15:15+i])\n",
    "    if temp[x,30] <= temp[x-1,30]:\n",
    "        for j in range(1,15):\n",
    "            if temp[x,30] > temp[x-1,30+j]:\n",
    "                break\n",
    "        if temp[x,30] == temp[x-1,i-1]:\n",
    "            tempVolume += np.sum(temp[x-1,45:44+i])\n",
    "            tempVolume += max(0,temp[x,45]-temp[x-1,44+i])\n",
    "            tempVWAP += np.dot(temp[x-1,30:29+i],temp[x-1,45:44+i]) + temp[x-1,29+i] * max(0,temp[x,45]-temp[x-1,45+i])\n",
    "            \n",
    "        else:\n",
    "            tempVolume += np.sum(temp[x-1,45:45+i])\n",
    "            tempVWAP += np.dot(temp[x-1,30:30+i],temp[x-1,45:45+i])\n",
    "    df.loc[x,'volume'] = tempVolume\n",
    "    df.loc[x,'vwap'] = tempVWAP\n"
   ]
  },
  {
   "cell_type": "code",
   "execution_count": null,
   "metadata": {},
   "outputs": [],
   "source": [
    "df.loc[df['volume'] != 0].shape"
   ]
  },
  {
   "cell_type": "code",
   "execution_count": null,
   "metadata": {
    "scrolled": true
   },
   "outputs": [],
   "source": [
    "#no cases where volume gets taken off the top with no change in price\n",
    "\n",
    "df['volume'] = 0\n",
    "df['vwap'] = 0\n",
    "#ask order gets takes off multiple levels of limit bids, p <= bidRateX,  bidSize0+...bidSizeX-1 < q < bidSize0+..bidSizeX\n",
    "for x in df.loc[(df['bidRate0'].diff(1) < 0)].index:\n",
    "    for i in range(0,15):\n",
    "        if df.loc[x,'bidRate0'] < df.loc[x-1,'bidRate'+str(i)]:\n",
    "            df.loc[x,'volume'] += df.loc[x-1,'bidSize'+str(i)]\n",
    "            df.loc[x,'vwap'] += df.loc[x-1,'bidRate'+str(i)] * df.loc[x-1,'bidSize'+str(i)]\n",
    "        elif df.loc[x,'bidRate0'] == df.loc[x-1,'bidRate'+str(i)]:\n",
    "            df.loc[x,'volume'] += max(0,(df.loc[x-1,'bidSize'+str(i)] - df.loc[x,'bidSize0']))\n",
    "            df.loc[x,'vwap'] += df.loc[x,'bidRate0'] * max(0,(df.loc[x-1,'bidSize'+str(i)] - df.loc[x,'bidSize0']))\n",
    "        else:\n",
    "            break"
   ]
  },
  {
   "cell_type": "code",
   "execution_count": null,
   "metadata": {
    "scrolled": true
   },
   "outputs": [],
   "source": [
    "#bid order takes of multiple levels of limit asks, \n",
    "for x in df.loc[(df['askRate0'].diff(1) > 0)].index:\n",
    "    for i in range(0,15):\n",
    "        if df.loc[x,'askRate0'] > df.loc[x-1,'askRate'+str(i)]:\n",
    "            df.loc[x,'volume'] += df.loc[x-1,'askSize'+str(i)]\n",
    "            df.loc[x,'vwap'] += df.loc[x-1,'askRate'+str(i)] * df.loc[x-1,'askSize'+str(i)]\n",
    "        elif df.loc[x,'askRate0'] == df.loc[x-1,'askRate'+str(i)]:\n",
    "            df.loc[x,'volume'] += max(0,(df.loc[x-1,'askSize'+str(i)] - df.loc[x,'askSize0']))\n",
    "            df.loc[x,'vwap'] += df.loc[x,'askRate0'] * max(0,(df.loc[x-1,'askSize'+str(i)] - df.loc[x,'askSize0']))\n",
    "        else:\n",
    "            break"
   ]
  },
  {
   "cell_type": "code",
   "execution_count": null,
   "metadata": {},
   "outputs": [],
   "source": [
    "df.loc[df['volume']==0,'vwap'] = np.nan\n",
    "df.loc[df['volume']!=0,'vwap'] /= df.loc[df['volume']!=0,'volume']"
   ]
  },
  {
   "cell_type": "code",
   "execution_count": null,
   "metadata": {},
   "outputs": [],
   "source": [
    "516239 in list(df.loc[(df['askRate0'].diff(1) == 0)].index)"
   ]
  },
  {
   "cell_type": "code",
   "execution_count": null,
   "metadata": {
    "scrolled": true
   },
   "outputs": [],
   "source": [
    "((df['volume'] > 0) * 1).corr(df['y'])"
   ]
  },
  {
   "cell_type": "code",
   "execution_count": null,
   "metadata": {},
   "outputs": [],
   "source": [
    "df.loc[(df['askRate0'].diff(1) > 0) & (df['bidRate0'].diff(1) < 0)]"
   ]
  },
  {
   "cell_type": "code",
   "execution_count": null,
   "metadata": {
    "scrolled": true
   },
   "outputs": [],
   "source": [
    "df.loc[94804:94806,['bidRate1','bidRate0','askRate0','askRate1','bidSize1','bidSize0','askSize0','askSize1','volume']]"
   ]
  },
  {
   "cell_type": "code",
   "execution_count": null,
   "metadata": {
    "scrolled": true
   },
   "outputs": [],
   "source": [
    "(((df['askRate0'].diff(1) >= 0) & (df['bidRate0'].diff(1) > 0)) * 1).corr(df['y'])"
   ]
  },
  {
   "cell_type": "code",
   "execution_count": null,
   "metadata": {
    "scrolled": true
   },
   "outputs": [],
   "source": [
    "(((df['askRate0'].diff(1) <= 0) & (df['bidRate0'].diff(1) <= 0)) * 1).corr(df['y'])"
   ]
  },
  {
   "cell_type": "code",
   "execution_count": null,
   "metadata": {
    "scrolled": true
   },
   "outputs": [],
   "source": [
    "(df['vwap']-df['price']).hist(bins=100,log=True)"
   ]
  },
  {
   "cell_type": "code",
   "execution_count": null,
   "metadata": {},
   "outputs": [],
   "source": []
  },
  {
   "cell_type": "code",
   "execution_count": null,
   "metadata": {},
   "outputs": [],
   "source": [
    "df['vwap'] /= df['volume']"
   ]
  },
  {
   "cell_type": "code",
   "execution_count": null,
   "metadata": {},
   "outputs": [],
   "source": [
    "df['price'] = (df['askRate0'] + df['bidRate0'])/2"
   ]
  },
  {
   "cell_type": "code",
   "execution_count": null,
   "metadata": {},
   "outputs": [],
   "source": [
    "df['vwap2'] =  df['vwap']\n",
    "df['vwap2'] = df['vwap2'].fillna(method=\"ffill\")"
   ]
  },
  {
   "cell_type": "code",
   "execution_count": null,
   "metadata": {},
   "outputs": [],
   "source": [
    "(df['vwap2']-df['price']).corr(df['y'])"
   ]
  },
  {
   "cell_type": "code",
   "execution_count": null,
   "metadata": {},
   "outputs": [],
   "source": [
    "df['price'] = (df['askRate0'] + df['bidRate0']) / 2"
   ]
  },
  {
   "cell_type": "code",
   "execution_count": null,
   "metadata": {
    "scrolled": true
   },
   "outputs": [],
   "source": [
    "(df.loc[df['volume'] != 0,'price']-df.loc[df['volume'] != 0,'vwap']).plot()"
   ]
  },
  {
   "cell_type": "code",
   "execution_count": null,
   "metadata": {},
   "outputs": [],
   "source": [
    "df.loc[df['volume'] != 0,'vwap'] /= df.loc[df['volume'] != 0,'volume']"
   ]
  },
  {
   "cell_type": "code",
   "execution_count": null,
   "metadata": {},
   "outputs": [],
   "source": [
    "df.loc[(df['askRate0'].diff(1) > 0)] "
   ]
  },
  {
   "cell_type": "code",
   "execution_count": null,
   "metadata": {},
   "outputs": [],
   "source": [
    "df['price'] = (df['askRate0'] + df['bidRate0']) / 2"
   ]
  },
  {
   "cell_type": "code",
   "execution_count": null,
   "metadata": {},
   "outputs": [],
   "source": [
    "df['priceDiff1'] = df['price'].diff(1)"
   ]
  },
  {
   "cell_type": "code",
   "execution_count": null,
   "metadata": {},
   "outputs": [],
   "source": [
    "df['priceDiff10'] = df['price'].diff(10)"
   ]
  },
  {
   "cell_type": "code",
   "execution_count": null,
   "metadata": {},
   "outputs": [],
   "source": [
    "df['askRateLowered'] = (df['askRate0'].diff(1) < 0) * 1\n",
    "df['bidRateRaised'] = (df['bidRate0'].diff(1) > 0) * 1"
   ]
  },
  {
   "cell_type": "code",
   "execution_count": null,
   "metadata": {},
   "outputs": [],
   "source": [
    "df['hit'] =  (df['askRate0'] <= (df['bidRate0'] - df['bidRate0'].diff(1)))\n",
    "df['lift'] =  (df['bidRate0'] >= (df['askRate0'] - df['askRate0'].diff(1)))\n",
    "df['traded'] = df['hit'] | df['lift']\n",
    "\n"
   ]
  },
  {
   "cell_type": "code",
   "execution_count": null,
   "metadata": {},
   "outputs": [],
   "source": []
  },
  {
   "cell_type": "code",
   "execution_count": null,
   "metadata": {},
   "outputs": [],
   "source": [
    "df['volume'] = 0\n",
    "df['vwap'] = 0\n",
    "for i in list(df.loc[df['hit']==1].index):\n",
    "    for x in range(15):\n",
    "        if df.loc[i,'askRate0'] > df.loc[i-1,'bidRate'+str(x)]:\n",
    "            break\n",
    "        else:\n",
    "            df.loc[i,'volume'] += df.loc[i-1,'bidSize'+str(x)]\n",
    "            df.loc[i,'vwap'] += df.loc[i-1,'bidSize'+str(x)] * df.loc[i-1,'bidRate'+str(x)]\n",
    "    \n",
    "            \n"
   ]
  },
  {
   "cell_type": "code",
   "execution_count": null,
   "metadata": {},
   "outputs": [],
   "source": [
    "df['hit'].corr(df['y'])"
   ]
  },
  {
   "cell_type": "code",
   "execution_count": null,
   "metadata": {},
   "outputs": [],
   "source": [
    "df['askSize0Last'] =df['askSize0Last'].fillna(method=\"ffill\")"
   ]
  },
  {
   "cell_type": "code",
   "execution_count": null,
   "metadata": {},
   "outputs": [],
   "source": [
    "df.loc[df['traded'] != 0,'bidSize0Last'] =  df.loc[df['traded'] != 0,'bidSize0']\n",
    "df['bidSize0Last'] =df['bidSize0Last'].fillna(method=\"ffill\")"
   ]
  },
  {
   "cell_type": "code",
   "execution_count": null,
   "metadata": {},
   "outputs": [],
   "source": [
    "df['bidSize0Last'].corr(df['bidSize0'])"
   ]
  },
  {
   "cell_type": "code",
   "execution_count": null,
   "metadata": {},
   "outputs": [],
   "source": [
    "df['price'] = (df['askRate0'] + df['bidRate0']) / 2"
   ]
  },
  {
   "cell_type": "code",
   "execution_count": null,
   "metadata": {},
   "outputs": [],
   "source": [
    "for i in range(2,5):\n",
    "    df_copy.loc[df_copy['priceChanged'] != 0,'dPrice_-'+str(i)] = df_copy.loc[df_copy['priceChanged'] != 0,'price'].diff(i+1) - df_copy.loc[df_copy['priceChanged'] != 0,'price'].diff(i)\n",
    "    df_copy['dPrice_-'+str(i)] = df_copy['dPrice_-'+str(i)].fillna(method=\"ffill\")\n",
    "\n",
    "\n",
    "df_copy.loc[df_copy['priceChanged'] != 0,'dPrice_-1'] = df_copy.loc[df_copy['priceChanged'] != 0,'price'].diff(1)\n",
    "df_copy['dPrice_-1'] =df_copy['dPrice_-1'].fillna(method=\"ffill\")\n",
    "    "
   ]
  },
  {
   "cell_type": "code",
   "execution_count": null,
   "metadata": {},
   "outputs": [],
   "source": [
    "test = df[['askSize0','askSize1','bidSize0','bidSize1','askSize2','bidSize2',\n",
    "                'askSize3','bidSize3','upMomentum','downMomentum','y']]\n",
    "test = test.drop_duplicates()"
   ]
  },
  {
   "cell_type": "code",
   "execution_count": null,
   "metadata": {},
   "outputs": [],
   "source": [
    "df_copy['dPrice_-1'].corr(df_copy['y'])"
   ]
  },
  {
   "cell_type": "code",
   "execution_count": null,
   "metadata": {
    "scrolled": true
   },
   "outputs": [],
   "source": [
    "df[['price','vwap2']].dropna()"
   ]
  },
  {
   "cell_type": "code",
   "execution_count": null,
   "metadata": {
    "scrolled": false
   },
   "outputs": [],
   "source": [
    "import xgboost as xgb\n",
    "from xgboost import XGBRegressor\n",
    "xgbr = XGBRegressor(n_estimators=100,objective='reg:squarederror',max_depth=2)\n",
    "\n",
    "y = test['y'].values.reshape(-1,)\n",
    "X = test.drop('y',axis=1)\n",
    "from sklearn.model_selection import cross_val_score\n",
    "scores = cross_val_score(xgbr,X,y,cv=2, scoring='r2')\n",
    "scores.mean()\n",
    "\n",
    "# xgbr.fit(df[features2].values.reshape(-1,len(features2)),df['y'].values.reshape(-1,))\n"
   ]
  },
  {
   "cell_type": "code",
   "execution_count": null,
   "metadata": {
    "scrolled": false
   },
   "outputs": [],
   "source": [
    "xgbr.fit(X,y)"
   ]
  },
  {
   "cell_type": "code",
   "execution_count": null,
   "metadata": {
    "scrolled": true
   },
   "outputs": [],
   "source": [
    "import xgboost as xgb\n",
    "xgb.plot_importance(xgbr)"
   ]
  },
  {
   "cell_type": "code",
   "execution_count": null,
   "metadata": {},
   "outputs": [],
   "source": [
    "xgbr.score(X,y)"
   ]
  },
  {
   "cell_type": "code",
   "execution_count": null,
   "metadata": {},
   "outputs": [],
   "source": [
    "fig, ax = plt.subplots(1,1,figsize=(30,30))\n",
    "\n",
    "xgb.plot_tree(xgbr,ax=ax,num_trees=2)"
   ]
  },
  {
   "cell_type": "code",
   "execution_count": null,
   "metadata": {},
   "outputs": [],
   "source": [
    "df['askSize0'].corr(df['askSize0Last'])"
   ]
  },
  {
   "cell_type": "code",
   "execution_count": null,
   "metadata": {},
   "outputs": [],
   "source": [
    "df['price_-10'] = (df['price'] - df['price'].diff(10))\n",
    "df['price_-20'] = (df['price'] - df['price'].diff(20))\n",
    "df['price_-30'] = (df['price'] - df['price'].diff(30))\n",
    "df['price_-40'] = (df['price'] - df['price'].diff(40))\n",
    "#df['hit'] = df['askRate0'] <= (df['bidRate0']-df['bidRate0'].diff(1))\n",
    "#df['lift'] = df['bidRate0'] >= (df['askRate0']-df['askRate0'].diff(1))\n",
    "#df['askRateDown'] = (df['askRate0'].diff(1) < 0) * 1\n",
    "#df['bidRateUp'] = (df['bidRate0'].diff(1) > 0) * 1"
   ]
  },
  {
   "cell_type": "code",
   "execution_count": null,
   "metadata": {},
   "outputs": [],
   "source": [
    "((df['askRate0'].diff(1) < 0) * 1).corr(df['y'])"
   ]
  },
  {
   "cell_type": "code",
   "execution_count": null,
   "metadata": {},
   "outputs": [],
   "source": [
    "df['askRate0_-10'] = df['askRate0'] - df['askRate0'].diff(10)\n",
    "df['bidRate0_-10'] = df['bidRate0'] - df['bidRate0'].diff(10)"
   ]
  },
  {
   "cell_type": "code",
   "execution_count": null,
   "metadata": {},
   "outputs": [],
   "source": [
    "test = df[['bidSize3','bidSize2','bidSize1','bidSize0','askSize0','askSize1','askSize2','askSize3',\n",
    "           'askRate0','bidRate0','askRate0_-10','bidRate0_-10','y']].copy()"
   ]
  },
  {
   "cell_type": "code",
   "execution_count": null,
   "metadata": {},
   "outputs": [],
   "source": [
    "\n",
    "test['askSize0_-10'] = test['askSize0'] - test['askSize0'].diff(10)\n",
    "test['bidSize0_-10'] = test['bidSize0'] - test['bidSize0'].diff(10)\n",
    "test['askSize0_-20'] = test['askSize0'] - test['askSize0'].diff(20)\n",
    "test['bidSize0_-20'] = test['bidSize0'] - test['bidSize0'].diff(20)\n"
   ]
  },
  {
   "cell_type": "code",
   "execution_count": null,
   "metadata": {},
   "outputs": [],
   "source": [
    "test = test.drop_duplicates()"
   ]
  },
  {
   "cell_type": "code",
   "execution_count": null,
   "metadata": {
    "scrolled": false
   },
   "outputs": [],
   "source": [
    "xgbr.fit(X,y)"
   ]
  },
  {
   "cell_type": "code",
   "execution_count": null,
   "metadata": {},
   "outputs": [],
   "source": [
    "xgbr.score(df[['bidSize3', 'bidSize2', 'bidSize1', 'bidSize0', 'askSize0', 'askSize1',\n",
    "       'askSize2', 'askSize3']],df['y'].values.reshape(-1,))"
   ]
  },
  {
   "cell_type": "code",
   "execution_count": null,
   "metadata": {},
   "outputs": [],
   "source": [
    "import joblib\n",
    "#save model\n",
    "joblib.dump(xgbr, \"model.pkl\") \n",
    "\n",
    "#load saved model\n",
    "xgb = joblib.load(\"model.pkl\")\n",
    "\n"
   ]
  }
 ],
 "metadata": {
  "kernelspec": {
   "display_name": "Python 3",
   "language": "python",
   "name": "python3"
  },
  "language_info": {
   "codemirror_mode": {
    "name": "ipython",
    "version": 3
   },
   "file_extension": ".py",
   "mimetype": "text/x-python",
   "name": "python",
   "nbconvert_exporter": "python",
   "pygments_lexer": "ipython3",
   "version": "3.7.4"
  }
 },
 "nbformat": 4,
 "nbformat_minor": 2
}
