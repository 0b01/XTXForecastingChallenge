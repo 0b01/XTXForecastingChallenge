{
 "cells": [
  {
   "cell_type": "code",
   "execution_count": 1,
   "metadata": {},
   "outputs": [],
   "source": [
    "import numpy as np\n",
    "import pandas as pd\n",
    "import matplotlib.pyplot as plt\n",
    "%matplotlib inline\n",
    "\n",
    "\n",
    "pd.options.display.max_columns=100"
   ]
  },
  {
   "cell_type": "code",
   "execution_count": 2,
   "metadata": {},
   "outputs": [],
   "source": [
    "df = pd.read_csv(\"data-training.csv\")\n",
    "df.iloc[:,15:30] = df.iloc[:,15:30].fillna(0)\n",
    "for i in range(1,15):\n",
    "    for x in df.loc[df.iloc[:,i].isna()==True].index:\n",
    "        df.iloc[x,i] = df.iloc[x,i-1]+0.5"
   ]
  },
  {
   "cell_type": "code",
   "execution_count": 7,
   "metadata": {},
   "outputs": [],
   "source": [
    "for i in range(15):\n",
    "    df['orderImbalance'+str(i)] = (df['askSize'+str(i)] - df['bidSize'+str(i)]) / (df['askSize'+str(i)] + df['bidSize'+str(i)])"
   ]
  },
  {
   "cell_type": "code",
   "execution_count": 27,
   "metadata": {
    "scrolled": true
   },
   "outputs": [],
   "source": [
    "df2 = df[['orderImbalance0', 'orderImbalance1',\n",
    "       'orderImbalance2', 'orderImbalance3', 'orderImbalance4',\n",
    "       'orderImbalance5', 'orderImbalance6', 'orderImbalance7',\n",
    "       'orderImbalance8','y']].drop_duplicates()"
   ]
  },
  {
   "cell_type": "code",
   "execution_count": 23,
   "metadata": {},
   "outputs": [],
   "source": [
    "y  = df2['y'].values.reshape(-1,)\n",
    "X = df2.drop('y',axis=1)\n",
    "X = X.values.reshape(-1,X.shape[1])"
   ]
  },
  {
   "cell_type": "code",
   "execution_count": null,
   "metadata": {},
   "outputs": [],
   "source": [
    "fig, ax = plt.subplots()\n",
    "\n",
    "x = 10\n",
    "plt.plot(df.iloc[x,0:15],df.iloc[x,15:30],\"-o\")\n",
    "plt.plot(df.iloc[x,30:45],df.iloc[x,45:60],\"-o\")\n",
    "\n",
    "import plotly.graph_objects as go\n",
    "import numpy as np\n",
    "\n",
    "# Create figure\n",
    "fig = go.Figure()\n",
    "\n",
    "# Add traces, one for each slider step\n",
    "for step in np.arange(0, 1000, 1):\n",
    "    fig.add_trace(\n",
    "        go.Scatter(\n",
    "            visible=False,\n",
    "            mode=\"lines+markers\",\n",
    "            name=\"𝜈 = \" + str(step),\n",
    "            x=df.iloc[step,rateIndexes],\n",
    "            y=df.iloc[step,volumeIndexes]))\n",
    "\n",
    "\n",
    "# Make 10th trace visible\n",
    "fig.data[0].visible = True\n",
    "\n",
    "# Create and add slider\n",
    "steps = []\n",
    "for i in range(len(fig.data)):\n",
    "    step = dict(\n",
    "        method=\"restyle\",\n",
    "        args=[\"visible\", [False] * len(fig.data)],\n",
    "    )\n",
    "    step[\"args\"][1][i] = True  # Toggle i'th trace to \"visible\"\n",
    "    steps.append(step)\n",
    "\n",
    "sliders = [dict(\n",
    "    active=10,\n",
    "    currentvalue={\"prefix\": \"Frequency: \"},\n",
    "    pad={\"t\": 50},\n",
    "    steps=steps\n",
    ")]\n",
    "\n",
    "fig.update_layout(\n",
    "    sliders=sliders\n",
    ")\n",
    "\n",
    "fig.show()"
   ]
  },
  {
   "cell_type": "code",
   "execution_count": null,
   "metadata": {
    "scrolled": true
   },
   "outputs": [],
   "source": [
    "(df['askRate0'].diff(10)).corr(df['y'])"
   ]
  },
  {
   "cell_type": "code",
   "execution_count": null,
   "metadata": {},
   "outputs": [],
   "source": [
    "(df['askRate0'] >= (df['askRate5']-df['askRate5'].diff(10))).sum()"
   ]
  },
  {
   "cell_type": "code",
   "execution_count": null,
   "metadata": {},
   "outputs": [],
   "source": [
    "test = df[['askSize0','bidSize0','askSize1','bidSize1','askSize2','bidSize2',\n",
    "           'askSize3','bidSize3','askSize4','bidSize4','askSize5','bidSize5','y']]\n"
   ]
  },
  {
   "cell_type": "code",
   "execution_count": null,
   "metadata": {},
   "outputs": [],
   "source": [
    "test = test.drop_duplicates()"
   ]
  },
  {
   "cell_type": "code",
   "execution_count": null,
   "metadata": {},
   "outputs": [],
   "source": [
    "X  = test.drop('y',axis=1)\n",
    "y = test['y'].values.reshape(-1,1)"
   ]
  },
  {
   "cell_type": "code",
   "execution_count": null,
   "metadata": {},
   "outputs": [],
   "source": [
    "from sklearn.model_selection import train_test_split\n",
    "\n",
    "X_train, X_test, y_train, y_test = train_test_split(X,y,test_size=0.5,shuffle=True)"
   ]
  },
  {
   "cell_type": "code",
   "execution_count": null,
   "metadata": {},
   "outputs": [],
   "source": [
    "feats = ['askSize0','bidSize0','askRate0','bidRate0']\n",
    "\n",
    "for x in feats:\n",
    "    test[x+str(\"-10\")]  = test[x]-test[x].diff(10)"
   ]
  },
  {
   "cell_type": "code",
   "execution_count": null,
   "metadata": {},
   "outputs": [],
   "source": [
    "test['askRate0Diff10'] = test['askRate0'].diff(10)\n",
    "test['bidRate0Diff10'] = test['bidRate0'].diff(10)\n",
    "test['askSize0_-10'] = test['askSize0']-test['askSize0'].diff(10)\n",
    "test['bidSize0_-10'] = test['bidSize0']-test['bidSize0'].diff(10)"
   ]
  },
  {
   "cell_type": "code",
   "execution_count": null,
   "metadata": {},
   "outputs": [],
   "source": []
  },
  {
   "cell_type": "code",
   "execution_count": null,
   "metadata": {},
   "outputs": [],
   "source": [
    "test = test.drop_duplicates()"
   ]
  },
  {
   "cell_type": "code",
   "execution_count": null,
   "metadata": {
    "scrolled": true
   },
   "outputs": [],
   "source": [
    "test.columns"
   ]
  },
  {
   "cell_type": "code",
   "execution_count": null,
   "metadata": {},
   "outputs": [],
   "source": [
    "len(['askSize0', 'bidSize0', 'askSize1', 'bidSize1', 'askSize2', 'bidSize2',\n",
    "       'askSize3', 'bidSize3', 'askSize4', 'bidSize4', 'askSize5', 'bidSize5',\n",
    "       'askRate0', 'bidRate0', 'y', 'askRate0Diff10', 'bidRate0Diff10',\n",
    "       'askSize0_-10', 'bidSize0_-10'])"
   ]
  },
  {
   "cell_type": "code",
   "execution_count": 26,
   "metadata": {
    "scrolled": false
   },
   "outputs": [
    {
     "ename": "ValueError",
     "evalue": "Found input variables with inconsistent numbers of samples: [22316508, 2479612]",
     "output_type": "error",
     "traceback": [
      "\u001b[0;31m---------------------------------------------------------------------------\u001b[0m",
      "\u001b[0;31mValueError\u001b[0m                                Traceback (most recent call last)",
      "\u001b[0;32m<ipython-input-26-9669d44759b6>\u001b[0m in \u001b[0;36m<module>\u001b[0;34m\u001b[0m\n\u001b[1;32m      7\u001b[0m \u001b[0;34m\u001b[0m\u001b[0m\n\u001b[1;32m      8\u001b[0m \u001b[0;32mfrom\u001b[0m \u001b[0msklearn\u001b[0m\u001b[0;34m.\u001b[0m\u001b[0mmodel_selection\u001b[0m \u001b[0;32mimport\u001b[0m \u001b[0mcross_val_score\u001b[0m\u001b[0;34m\u001b[0m\u001b[0;34m\u001b[0m\u001b[0m\n\u001b[0;32m----> 9\u001b[0;31m \u001b[0mscores\u001b[0m \u001b[0;34m=\u001b[0m \u001b[0mcross_val_score\u001b[0m\u001b[0;34m(\u001b[0m\u001b[0mxgbr\u001b[0m\u001b[0;34m,\u001b[0m\u001b[0mX\u001b[0m\u001b[0;34m,\u001b[0m\u001b[0my\u001b[0m\u001b[0;34m,\u001b[0m\u001b[0mcv\u001b[0m\u001b[0;34m=\u001b[0m\u001b[0;36m2\u001b[0m\u001b[0;34m,\u001b[0m \u001b[0mscoring\u001b[0m\u001b[0;34m=\u001b[0m\u001b[0;34m'r2'\u001b[0m\u001b[0;34m)\u001b[0m\u001b[0;34m\u001b[0m\u001b[0;34m\u001b[0m\u001b[0m\n\u001b[0m\u001b[1;32m     10\u001b[0m \u001b[0mscores\u001b[0m\u001b[0;34m.\u001b[0m\u001b[0mmean\u001b[0m\u001b[0;34m(\u001b[0m\u001b[0;34m)\u001b[0m\u001b[0;34m\u001b[0m\u001b[0;34m\u001b[0m\u001b[0m\n\u001b[1;32m     11\u001b[0m \u001b[0;34m\u001b[0m\u001b[0m\n",
      "\u001b[0;32m/usr/local/lib/python3.7/site-packages/sklearn/model_selection/_validation.py\u001b[0m in \u001b[0;36mcross_val_score\u001b[0;34m(estimator, X, y, groups, scoring, cv, n_jobs, verbose, fit_params, pre_dispatch, error_score)\u001b[0m\n\u001b[1;32m    389\u001b[0m                                 \u001b[0mfit_params\u001b[0m\u001b[0;34m=\u001b[0m\u001b[0mfit_params\u001b[0m\u001b[0;34m,\u001b[0m\u001b[0;34m\u001b[0m\u001b[0;34m\u001b[0m\u001b[0m\n\u001b[1;32m    390\u001b[0m                                 \u001b[0mpre_dispatch\u001b[0m\u001b[0;34m=\u001b[0m\u001b[0mpre_dispatch\u001b[0m\u001b[0;34m,\u001b[0m\u001b[0;34m\u001b[0m\u001b[0;34m\u001b[0m\u001b[0m\n\u001b[0;32m--> 391\u001b[0;31m                                 error_score=error_score)\n\u001b[0m\u001b[1;32m    392\u001b[0m     \u001b[0;32mreturn\u001b[0m \u001b[0mcv_results\u001b[0m\u001b[0;34m[\u001b[0m\u001b[0;34m'test_score'\u001b[0m\u001b[0;34m]\u001b[0m\u001b[0;34m\u001b[0m\u001b[0;34m\u001b[0m\u001b[0m\n\u001b[1;32m    393\u001b[0m \u001b[0;34m\u001b[0m\u001b[0m\n",
      "\u001b[0;32m/usr/local/lib/python3.7/site-packages/sklearn/model_selection/_validation.py\u001b[0m in \u001b[0;36mcross_validate\u001b[0;34m(estimator, X, y, groups, scoring, cv, n_jobs, verbose, fit_params, pre_dispatch, return_train_score, return_estimator, error_score)\u001b[0m\n\u001b[1;32m    215\u001b[0m \u001b[0;34m\u001b[0m\u001b[0m\n\u001b[1;32m    216\u001b[0m     \"\"\"\n\u001b[0;32m--> 217\u001b[0;31m     \u001b[0mX\u001b[0m\u001b[0;34m,\u001b[0m \u001b[0my\u001b[0m\u001b[0;34m,\u001b[0m \u001b[0mgroups\u001b[0m \u001b[0;34m=\u001b[0m \u001b[0mindexable\u001b[0m\u001b[0;34m(\u001b[0m\u001b[0mX\u001b[0m\u001b[0;34m,\u001b[0m \u001b[0my\u001b[0m\u001b[0;34m,\u001b[0m \u001b[0mgroups\u001b[0m\u001b[0;34m)\u001b[0m\u001b[0;34m\u001b[0m\u001b[0;34m\u001b[0m\u001b[0m\n\u001b[0m\u001b[1;32m    218\u001b[0m \u001b[0;34m\u001b[0m\u001b[0m\n\u001b[1;32m    219\u001b[0m     \u001b[0mcv\u001b[0m \u001b[0;34m=\u001b[0m \u001b[0mcheck_cv\u001b[0m\u001b[0;34m(\u001b[0m\u001b[0mcv\u001b[0m\u001b[0;34m,\u001b[0m \u001b[0my\u001b[0m\u001b[0;34m,\u001b[0m \u001b[0mclassifier\u001b[0m\u001b[0;34m=\u001b[0m\u001b[0mis_classifier\u001b[0m\u001b[0;34m(\u001b[0m\u001b[0mestimator\u001b[0m\u001b[0;34m)\u001b[0m\u001b[0;34m)\u001b[0m\u001b[0;34m\u001b[0m\u001b[0;34m\u001b[0m\u001b[0m\n",
      "\u001b[0;32m/usr/local/lib/python3.7/site-packages/sklearn/utils/validation.py\u001b[0m in \u001b[0;36mindexable\u001b[0;34m(*iterables)\u001b[0m\n\u001b[1;32m    228\u001b[0m         \u001b[0;32melse\u001b[0m\u001b[0;34m:\u001b[0m\u001b[0;34m\u001b[0m\u001b[0;34m\u001b[0m\u001b[0m\n\u001b[1;32m    229\u001b[0m             \u001b[0mresult\u001b[0m\u001b[0;34m.\u001b[0m\u001b[0mappend\u001b[0m\u001b[0;34m(\u001b[0m\u001b[0mnp\u001b[0m\u001b[0;34m.\u001b[0m\u001b[0marray\u001b[0m\u001b[0;34m(\u001b[0m\u001b[0mX\u001b[0m\u001b[0;34m)\u001b[0m\u001b[0;34m)\u001b[0m\u001b[0;34m\u001b[0m\u001b[0;34m\u001b[0m\u001b[0m\n\u001b[0;32m--> 230\u001b[0;31m     \u001b[0mcheck_consistent_length\u001b[0m\u001b[0;34m(\u001b[0m\u001b[0;34m*\u001b[0m\u001b[0mresult\u001b[0m\u001b[0;34m)\u001b[0m\u001b[0;34m\u001b[0m\u001b[0;34m\u001b[0m\u001b[0m\n\u001b[0m\u001b[1;32m    231\u001b[0m     \u001b[0;32mreturn\u001b[0m \u001b[0mresult\u001b[0m\u001b[0;34m\u001b[0m\u001b[0;34m\u001b[0m\u001b[0m\n\u001b[1;32m    232\u001b[0m \u001b[0;34m\u001b[0m\u001b[0m\n",
      "\u001b[0;32m/usr/local/lib/python3.7/site-packages/sklearn/utils/validation.py\u001b[0m in \u001b[0;36mcheck_consistent_length\u001b[0;34m(*arrays)\u001b[0m\n\u001b[1;32m    203\u001b[0m     \u001b[0;32mif\u001b[0m \u001b[0mlen\u001b[0m\u001b[0;34m(\u001b[0m\u001b[0muniques\u001b[0m\u001b[0;34m)\u001b[0m \u001b[0;34m>\u001b[0m \u001b[0;36m1\u001b[0m\u001b[0;34m:\u001b[0m\u001b[0;34m\u001b[0m\u001b[0;34m\u001b[0m\u001b[0m\n\u001b[1;32m    204\u001b[0m         raise ValueError(\"Found input variables with inconsistent numbers of\"\n\u001b[0;32m--> 205\u001b[0;31m                          \" samples: %r\" % [int(l) for l in lengths])\n\u001b[0m\u001b[1;32m    206\u001b[0m \u001b[0;34m\u001b[0m\u001b[0m\n\u001b[1;32m    207\u001b[0m \u001b[0;34m\u001b[0m\u001b[0m\n",
      "\u001b[0;31mValueError\u001b[0m: Found input variables with inconsistent numbers of samples: [22316508, 2479612]"
     ]
    }
   ],
   "source": [
    "import xgboost as xgb\n",
    "from xgboost import XGBRegressor\n",
    "xgbr = XGBRegressor(n_estimators=100,objective='reg:squarederror',\n",
    "                    max_depth=4,base_score=0,)\n",
    "\n",
    "\n",
    "\n",
    "from sklearn.model_selection import cross_val_score\n",
    "scores = cross_val_score(xgbr,X,y,cv=2, scoring='r2')\n",
    "scores.mean()\n",
    "\n",
    "\n"
   ]
  },
  {
   "cell_type": "code",
   "execution_count": null,
   "metadata": {},
   "outputs": [],
   "source": [
    "df['price'] = (df['askRate0'] + df['bidRate0']) / 2"
   ]
  },
  {
   "cell_type": "code",
   "execution_count": null,
   "metadata": {},
   "outputs": [],
   "source": [
    "df['price'].rolling(1000).mean().corr(df['y'])"
   ]
  },
  {
   "cell_type": "code",
   "execution_count": null,
   "metadata": {},
   "outputs": [],
   "source": [
    "df.loc[df['askRate6'] == df['askRate8']]"
   ]
  },
  {
   "cell_type": "code",
   "execution_count": null,
   "metadata": {
    "scrolled": true
   },
   "outputs": [],
   "source": [
    "xgb.plot_importance(xgbr)"
   ]
  },
  {
   "cell_type": "code",
   "execution_count": null,
   "metadata": {},
   "outputs": [],
   "source": [
    "xgbr.score(X_test,y_test)"
   ]
  },
  {
   "cell_type": "code",
   "execution_count": null,
   "metadata": {
    "scrolled": true
   },
   "outputs": [],
   "source": [
    "xgbr.score(X_train,y_train)"
   ]
  },
  {
   "cell_type": "code",
   "execution_count": null,
   "metadata": {},
   "outputs": [],
   "source": [
    "xgbr.fit(X_test,y_test)"
   ]
  },
  {
   "cell_type": "code",
   "execution_count": null,
   "metadata": {
    "scrolled": true
   },
   "outputs": [],
   "source": [
    "import xgboost as xgb\n",
    "from xgboost import XGBRegressor\n",
    "xgbr = XGBRegressor(n_estimators=100,objective='reg:squarederror',\n",
    "                    max_depth=4,base_score=0,)\n",
    "\n",
    "y = test['y'].values.reshape(-1,)\n",
    "X = test.drop('y',axis=1).values.reshape(-1,12)\n",
    "xgbr.fit(X,y)\n",
    "# from sklearn.model_selection import cross_val_score\n",
    "# scores = cross_val_score(xgbr,X,y,cv=2, scoring='r2')\n",
    "# scores.mean()\n",
    "\n",
    "\n"
   ]
  },
  {
   "cell_type": "code",
   "execution_count": null,
   "metadata": {
    "scrolled": true
   },
   "outputs": [],
   "source": [
    "\n",
    "fig, ax = plt.subplots(figsize=(30, 30))\n",
    "xgb.plot_importance(xgbr,ax=ax)"
   ]
  },
  {
   "cell_type": "code",
   "execution_count": null,
   "metadata": {
    "scrolled": false
   },
   "outputs": [],
   "source": [
    "xgbr.score(df.iloc[:,list(range(15,21))+list(range(45,51))].values.reshape(-1,12), df['y'])"
   ]
  },
  {
   "cell_type": "code",
   "execution_count": null,
   "metadata": {},
   "outputs": [],
   "source": [
    "from sklearn.externals import joblib\n",
    "\n",
    "joblib.dump(xgbr,\"model.joblib\")"
   ]
  },
  {
   "cell_type": "code",
   "execution_count": null,
   "metadata": {},
   "outputs": [],
   "source": [
    "import pickle"
   ]
  },
  {
   "cell_type": "code",
   "execution_count": null,
   "metadata": {},
   "outputs": [],
   "source": [
    "with open(\"model.pkl\",\"rb\") as m:\n",
    "    model = pickle.load(m)"
   ]
  },
  {
   "cell_type": "code",
   "execution_count": null,
   "metadata": {},
   "outputs": [],
   "source": [
    "fig, ax = plt.subplots(figsize=(30,30))\n",
    "xgb.plot_tree(xgbr,ax=ax)"
   ]
  },
  {
   "cell_type": "code",
   "execution_count": null,
   "metadata": {},
   "outputs": [],
   "source": [
    "xgbr.fit(df[features2].values.reshape(-1,len(features2)),df['y'].values.reshape(-1,))"
   ]
  },
  {
   "cell_type": "code",
   "execution_count": null,
   "metadata": {},
   "outputs": [],
   "source": [
    "df['volume'] = 0\n",
    "df['vwap'] = 0\n",
    "\n",
    "#volume gets taken off the top\n",
    "\n",
    "#new bid order >= askRate0, and q < askSize0_-1\n",
    "for x in df.loc[(df['askRate0'].diff(1) == 0) & (df['askSize0'].diff(1) < 0)].index:\n",
    "    df.loc[x,'volume'] = (df.loc[x-1,'askSize0'] - df.loc[x,'askSize0'])\n",
    "    df.loc[x,'vwap'] += df.loc[x,'askRate0'] * (df.loc[x-1,'askSize0'] - df.loc[x,'askSize0'])\n",
    "\n",
    "#new ask order <= bidRate0 and q < bidSize0_-1\n",
    "for x in df.loc[(df['bidRate0'].diff(1) == 0) & (df['bidSize0'].diff(1) < 0)].index:\n",
    "    df.loc[x,'volume'] = (df.loc[x-1,'bidSize0'] - df.loc[x,'bidSize0'])\n",
    "    df.loc[x,'vwap'] += df.loc[x,'bidRate0'] * (df.loc[x-1,'bidSize0'] - df.loc[x,'bidSize0'])"
   ]
  },
  {
   "cell_type": "code",
   "execution_count": null,
   "metadata": {},
   "outputs": [],
   "source": [
    "df['vwap'] /= df['volume']"
   ]
  },
  {
   "cell_type": "code",
   "execution_count": null,
   "metadata": {},
   "outputs": [],
   "source": [
    "df['price'] = (df['askRate0'] + df['bidRate0']) / 2"
   ]
  },
  {
   "cell_type": "code",
   "execution_count": null,
   "metadata": {},
   "outputs": [],
   "source": [
    "df['volume'].hist(bins=100)"
   ]
  },
  {
   "cell_type": "code",
   "execution_count": null,
   "metadata": {},
   "outputs": [],
   "source": [
    "df['vwap2'] = df['vwap']\n",
    "df['vwap2'] = df['vwap2'].fillna(method=\"ffill\")"
   ]
  },
  {
   "cell_type": "code",
   "execution_count": null,
   "metadata": {},
   "outputs": [],
   "source": [
    "(df['vwap']-df['price']).plot()"
   ]
  },
  {
   "cell_type": "code",
   "execution_count": null,
   "metadata": {},
   "outputs": [],
   "source": [
    "df['upMomentum'] = ((df['bidRate0'].diff(1) > 0)).rolling(10).sum()"
   ]
  },
  {
   "cell_type": "code",
   "execution_count": null,
   "metadata": {},
   "outputs": [],
   "source": [
    "df['downMomentum'] = ((df['askRate0'].diff(1) < 0)).rolling(10).sum()"
   ]
  },
  {
   "cell_type": "code",
   "execution_count": null,
   "metadata": {},
   "outputs": [],
   "source": [
    "temp = np.array(df)\n",
    "for x in range(1,temp.shape[0]):\n",
    "    tempVolume = 0\n",
    "    tempVWAP = 0\n",
    "    \n",
    "    \n",
    "    if temp[x,0] >= temp[x-1,0]:\n",
    "        for i in range(1,15):\n",
    "            if temp[x,0] < temp[x-1,i]:\n",
    "                break\n",
    "            \n",
    "        if temp[x,0] == temp[x-1,i-1]:\n",
    "            tempVolume += np.sum(temp[x-1,15:14+i])\n",
    "            tempVolume += max(0,temp[x,15]-temp[x-1,14+i])\n",
    "            tempVWAP += np.dot(temp[x-1,15:14+i],temp[x-1,0:i-1]) + temp[x-1,i-1] * max(0,temp[x,15]-temp[x-1,15+i])\n",
    "            \n",
    "        else:\n",
    "            tempVolume += np.sum(temp[x-1,15:15+i])\n",
    "            tempVWAP += np.dot(temp[x-1,0:i],temp[x-1,15:15+i])\n",
    "    if temp[x,30] <= temp[x-1,30]:\n",
    "        for j in range(1,15):\n",
    "            if temp[x,30] > temp[x-1,30+j]:\n",
    "                break\n",
    "        if temp[x,30] == temp[x-1,i-1]:\n",
    "            tempVolume += np.sum(temp[x-1,45:44+i])\n",
    "            tempVolume += max(0,temp[x,45]-temp[x-1,44+i])\n",
    "            tempVWAP += np.dot(temp[x-1,30:29+i],temp[x-1,45:44+i]) + temp[x-1,29+i] * max(0,temp[x,45]-temp[x-1,45+i])\n",
    "            \n",
    "        else:\n",
    "            tempVolume += np.sum(temp[x-1,45:45+i])\n",
    "            tempVWAP += np.dot(temp[x-1,30:30+i],temp[x-1,45:45+i])\n",
    "    df.loc[x,'volume'] = tempVolume\n",
    "    df.loc[x,'vwap'] = tempVWAP\n"
   ]
  },
  {
   "cell_type": "code",
   "execution_count": null,
   "metadata": {},
   "outputs": [],
   "source": [
    "df.loc[df['volume'] != 0].shape"
   ]
  },
  {
   "cell_type": "code",
   "execution_count": null,
   "metadata": {
    "scrolled": true
   },
   "outputs": [],
   "source": [
    "#no cases where volume gets taken off the top with no change in price\n",
    "\n",
    "df['volume'] = 0\n",
    "df['vwap'] = 0\n",
    "#ask order gets takes off multiple levels of limit bids, p <= bidRateX,  bidSize0+...bidSizeX-1 < q < bidSize0+..bidSizeX\n",
    "for x in df.loc[(df['bidRate0'].diff(1) < 0)].index:\n",
    "    for i in range(0,15):\n",
    "        if df.loc[x,'bidRate0'] < df.loc[x-1,'bidRate'+str(i)]:\n",
    "            df.loc[x,'volume'] += df.loc[x-1,'bidSize'+str(i)]\n",
    "            df.loc[x,'vwap'] += df.loc[x-1,'bidRate'+str(i)] * df.loc[x-1,'bidSize'+str(i)]\n",
    "        elif df.loc[x,'bidRate0'] == df.loc[x-1,'bidRate'+str(i)]:\n",
    "            df.loc[x,'volume'] += max(0,(df.loc[x-1,'bidSize'+str(i)] - df.loc[x,'bidSize0']))\n",
    "            df.loc[x,'vwap'] += df.loc[x,'bidRate0'] * max(0,(df.loc[x-1,'bidSize'+str(i)] - df.loc[x,'bidSize0']))\n",
    "        else:\n",
    "            break"
   ]
  },
  {
   "cell_type": "code",
   "execution_count": null,
   "metadata": {
    "scrolled": true
   },
   "outputs": [],
   "source": [
    "#bid order takes of multiple levels of limit asks, \n",
    "for x in df.loc[(df['askRate0'].diff(1) > 0)].index:\n",
    "    for i in range(0,15):\n",
    "        if df.loc[x,'askRate0'] > df.loc[x-1,'askRate'+str(i)]:\n",
    "            df.loc[x,'volume'] += df.loc[x-1,'askSize'+str(i)]\n",
    "            df.loc[x,'vwap'] += df.loc[x-1,'askRate'+str(i)] * df.loc[x-1,'askSize'+str(i)]\n",
    "        elif df.loc[x,'askRate0'] == df.loc[x-1,'askRate'+str(i)]:\n",
    "            df.loc[x,'volume'] += max(0,(df.loc[x-1,'askSize'+str(i)] - df.loc[x,'askSize0']))\n",
    "            df.loc[x,'vwap'] += df.loc[x,'askRate0'] * max(0,(df.loc[x-1,'askSize'+str(i)] - df.loc[x,'askSize0']))\n",
    "        else:\n",
    "            break"
   ]
  },
  {
   "cell_type": "code",
   "execution_count": null,
   "metadata": {},
   "outputs": [],
   "source": [
    "df.loc[df['volume']==0,'vwap'] = np.nan\n",
    "df.loc[df['volume']!=0,'vwap'] /= df.loc[df['volume']!=0,'volume']"
   ]
  },
  {
   "cell_type": "code",
   "execution_count": null,
   "metadata": {},
   "outputs": [],
   "source": [
    "516239 in list(df.loc[(df['askRate0'].diff(1) == 0)].index)"
   ]
  },
  {
   "cell_type": "code",
   "execution_count": null,
   "metadata": {
    "scrolled": true
   },
   "outputs": [],
   "source": [
    "((df['volume'] > 0) * 1).corr(df['y'])"
   ]
  },
  {
   "cell_type": "code",
   "execution_count": null,
   "metadata": {},
   "outputs": [],
   "source": [
    "df.loc[(df['askRate0'].diff(1) > 0) & (df['bidRate0'].diff(1) < 0)]"
   ]
  },
  {
   "cell_type": "code",
   "execution_count": null,
   "metadata": {
    "scrolled": true
   },
   "outputs": [],
   "source": [
    "df.loc[94804:94806,['bidRate1','bidRate0','askRate0','askRate1','bidSize1','bidSize0','askSize0','askSize1','volume']]"
   ]
  },
  {
   "cell_type": "code",
   "execution_count": null,
   "metadata": {
    "scrolled": true
   },
   "outputs": [],
   "source": [
    "(((df['askRate0'].diff(1) >= 0) & (df['bidRate0'].diff(1) > 0)) * 1).corr(df['y'])"
   ]
  },
  {
   "cell_type": "code",
   "execution_count": null,
   "metadata": {
    "scrolled": true
   },
   "outputs": [],
   "source": [
    "(((df['askRate0'].diff(1) <= 0) & (df['bidRate0'].diff(1) <= 0)) * 1).corr(df['y'])"
   ]
  },
  {
   "cell_type": "code",
   "execution_count": null,
   "metadata": {
    "scrolled": true
   },
   "outputs": [],
   "source": [
    "(df['vwap']-df['price']).hist(bins=100,log=True)"
   ]
  },
  {
   "cell_type": "code",
   "execution_count": null,
   "metadata": {},
   "outputs": [],
   "source": []
  },
  {
   "cell_type": "code",
   "execution_count": null,
   "metadata": {},
   "outputs": [],
   "source": [
    "df['vwap'] /= df['volume']"
   ]
  },
  {
   "cell_type": "code",
   "execution_count": null,
   "metadata": {},
   "outputs": [],
   "source": [
    "df['price'] = (df['askRate0'] + df['bidRate0'])/2"
   ]
  },
  {
   "cell_type": "code",
   "execution_count": null,
   "metadata": {},
   "outputs": [],
   "source": [
    "df['vwap2'] =  df['vwap']\n",
    "df['vwap2'] = df['vwap2'].fillna(method=\"ffill\")"
   ]
  },
  {
   "cell_type": "code",
   "execution_count": null,
   "metadata": {},
   "outputs": [],
   "source": [
    "(df['vwap2']-df['price']).corr(df['y'])"
   ]
  },
  {
   "cell_type": "code",
   "execution_count": null,
   "metadata": {},
   "outputs": [],
   "source": [
    "df['price'] = (df['askRate0'] + df['bidRate0']) / 2"
   ]
  },
  {
   "cell_type": "code",
   "execution_count": null,
   "metadata": {
    "scrolled": true
   },
   "outputs": [],
   "source": [
    "(df.loc[df['volume'] != 0,'price']-df.loc[df['volume'] != 0,'vwap']).plot()"
   ]
  },
  {
   "cell_type": "code",
   "execution_count": null,
   "metadata": {},
   "outputs": [],
   "source": [
    "df.loc[df['volume'] != 0,'vwap'] /= df.loc[df['volume'] != 0,'volume']"
   ]
  },
  {
   "cell_type": "code",
   "execution_count": null,
   "metadata": {},
   "outputs": [],
   "source": [
    "df.loc[(df['askRate0'].diff(1) > 0)] "
   ]
  },
  {
   "cell_type": "code",
   "execution_count": null,
   "metadata": {},
   "outputs": [],
   "source": [
    "df['price'] = (df['askRate0'] + df['bidRate0']) / 2"
   ]
  },
  {
   "cell_type": "code",
   "execution_count": null,
   "metadata": {},
   "outputs": [],
   "source": [
    "df['priceDiff1'] = df['price'].diff(1)"
   ]
  },
  {
   "cell_type": "code",
   "execution_count": null,
   "metadata": {},
   "outputs": [],
   "source": [
    "df['priceDiff10'] = df['price'].diff(10)"
   ]
  },
  {
   "cell_type": "code",
   "execution_count": null,
   "metadata": {},
   "outputs": [],
   "source": [
    "df['askRateLowered'] = (df['askRate0'].diff(1) < 0) * 1\n",
    "df['bidRateRaised'] = (df['bidRate0'].diff(1) > 0) * 1"
   ]
  },
  {
   "cell_type": "code",
   "execution_count": null,
   "metadata": {},
   "outputs": [],
   "source": [
    "df['hit'] =  (df['askRate0'] <= (df['bidRate0'] - df['bidRate0'].diff(1)))\n",
    "df['lift'] =  (df['bidRate0'] >= (df['askRate0'] - df['askRate0'].diff(1)))\n",
    "df['traded'] = df['hit'] | df['lift']\n",
    "\n"
   ]
  },
  {
   "cell_type": "code",
   "execution_count": null,
   "metadata": {},
   "outputs": [],
   "source": []
  },
  {
   "cell_type": "code",
   "execution_count": null,
   "metadata": {},
   "outputs": [],
   "source": [
    "df['volume'] = 0\n",
    "df['vwap'] = 0\n",
    "for i in list(df.loc[df['hit']==1].index):\n",
    "    for x in range(15):\n",
    "        if df.loc[i,'askRate0'] > df.loc[i-1,'bidRate'+str(x)]:\n",
    "            break\n",
    "        else:\n",
    "            df.loc[i,'volume'] += df.loc[i-1,'bidSize'+str(x)]\n",
    "            df.loc[i,'vwap'] += df.loc[i-1,'bidSize'+str(x)] * df.loc[i-1,'bidRate'+str(x)]\n",
    "    \n",
    "            \n"
   ]
  },
  {
   "cell_type": "code",
   "execution_count": null,
   "metadata": {},
   "outputs": [],
   "source": [
    "df['hit'].corr(df['y'])"
   ]
  },
  {
   "cell_type": "code",
   "execution_count": null,
   "metadata": {},
   "outputs": [],
   "source": [
    "df['askSize0Last'] =df['askSize0Last'].fillna(method=\"ffill\")"
   ]
  },
  {
   "cell_type": "code",
   "execution_count": null,
   "metadata": {},
   "outputs": [],
   "source": [
    "df.loc[df['traded'] != 0,'bidSize0Last'] =  df.loc[df['traded'] != 0,'bidSize0']\n",
    "df['bidSize0Last'] =df['bidSize0Last'].fillna(method=\"ffill\")"
   ]
  },
  {
   "cell_type": "code",
   "execution_count": null,
   "metadata": {},
   "outputs": [],
   "source": [
    "df['bidSize0Last'].corr(df['bidSize0'])"
   ]
  },
  {
   "cell_type": "code",
   "execution_count": null,
   "metadata": {},
   "outputs": [],
   "source": [
    "df['price'] = (df['askRate0'] + df['bidRate0']) / 2"
   ]
  },
  {
   "cell_type": "code",
   "execution_count": null,
   "metadata": {},
   "outputs": [],
   "source": [
    "for i in range(2,5):\n",
    "    df_copy.loc[df_copy['priceChanged'] != 0,'dPrice_-'+str(i)] = df_copy.loc[df_copy['priceChanged'] != 0,'price'].diff(i+1) - df_copy.loc[df_copy['priceChanged'] != 0,'price'].diff(i)\n",
    "    df_copy['dPrice_-'+str(i)] = df_copy['dPrice_-'+str(i)].fillna(method=\"ffill\")\n",
    "\n",
    "\n",
    "df_copy.loc[df_copy['priceChanged'] != 0,'dPrice_-1'] = df_copy.loc[df_copy['priceChanged'] != 0,'price'].diff(1)\n",
    "df_copy['dPrice_-1'] =df_copy['dPrice_-1'].fillna(method=\"ffill\")\n",
    "    "
   ]
  },
  {
   "cell_type": "code",
   "execution_count": null,
   "metadata": {},
   "outputs": [],
   "source": [
    "test = df[['askSize0','askSize1','bidSize0','bidSize1','askSize2','bidSize2',\n",
    "                'askSize3','bidSize3','upMomentum','downMomentum','y']]\n",
    "test = test.drop_duplicates()"
   ]
  },
  {
   "cell_type": "code",
   "execution_count": null,
   "metadata": {},
   "outputs": [],
   "source": [
    "df_copy['dPrice_-1'].corr(df_copy['y'])"
   ]
  },
  {
   "cell_type": "code",
   "execution_count": null,
   "metadata": {
    "scrolled": true
   },
   "outputs": [],
   "source": [
    "df[['price','vwap2']].dropna()"
   ]
  },
  {
   "cell_type": "code",
   "execution_count": null,
   "metadata": {
    "scrolled": false
   },
   "outputs": [],
   "source": [
    "import xgboost as xgb\n",
    "from xgboost import XGBRegressor\n",
    "xgbr = XGBRegressor(n_estimators=100,objective='reg:squarederror',max_depth=2)\n",
    "\n",
    "y = test['y'].values.reshape(-1,)\n",
    "X = test.drop('y',axis=1)\n",
    "from sklearn.model_selection import cross_val_score\n",
    "scores = cross_val_score(xgbr,X,y,cv=2, scoring='r2')\n",
    "scores.mean()\n",
    "\n",
    "# xgbr.fit(df[features2].values.reshape(-1,len(features2)),df['y'].values.reshape(-1,))\n"
   ]
  },
  {
   "cell_type": "code",
   "execution_count": null,
   "metadata": {
    "scrolled": false
   },
   "outputs": [],
   "source": [
    "xgbr.fit(X,y)"
   ]
  },
  {
   "cell_type": "code",
   "execution_count": null,
   "metadata": {
    "scrolled": true
   },
   "outputs": [],
   "source": [
    "import xgboost as xgb\n",
    "xgb.plot_importance(xgbr)"
   ]
  },
  {
   "cell_type": "code",
   "execution_count": null,
   "metadata": {},
   "outputs": [],
   "source": [
    "xgbr.score(X,y)"
   ]
  },
  {
   "cell_type": "code",
   "execution_count": null,
   "metadata": {},
   "outputs": [],
   "source": [
    "fig, ax = plt.subplots(1,1,figsize=(30,30))\n",
    "\n",
    "xgb.plot_tree(xgbr,ax=ax,num_trees=2)"
   ]
  },
  {
   "cell_type": "code",
   "execution_count": null,
   "metadata": {},
   "outputs": [],
   "source": [
    "df['askSize0'].corr(df['askSize0Last'])"
   ]
  },
  {
   "cell_type": "code",
   "execution_count": null,
   "metadata": {},
   "outputs": [],
   "source": [
    "df['price_-10'] = (df['price'] - df['price'].diff(10))\n",
    "df['price_-20'] = (df['price'] - df['price'].diff(20))\n",
    "df['price_-30'] = (df['price'] - df['price'].diff(30))\n",
    "df['price_-40'] = (df['price'] - df['price'].diff(40))\n",
    "#df['hit'] = df['askRate0'] <= (df['bidRate0']-df['bidRate0'].diff(1))\n",
    "#df['lift'] = df['bidRate0'] >= (df['askRate0']-df['askRate0'].diff(1))\n",
    "#df['askRateDown'] = (df['askRate0'].diff(1) < 0) * 1\n",
    "#df['bidRateUp'] = (df['bidRate0'].diff(1) > 0) * 1"
   ]
  },
  {
   "cell_type": "code",
   "execution_count": null,
   "metadata": {},
   "outputs": [],
   "source": [
    "((df['askRate0'].diff(1) < 0) * 1).corr(df['y'])"
   ]
  },
  {
   "cell_type": "code",
   "execution_count": null,
   "metadata": {},
   "outputs": [],
   "source": [
    "df['askRate0_-10'] = df['askRate0'] - df['askRate0'].diff(10)\n",
    "df['bidRate0_-10'] = df['bidRate0'] - df['bidRate0'].diff(10)"
   ]
  },
  {
   "cell_type": "code",
   "execution_count": null,
   "metadata": {},
   "outputs": [],
   "source": [
    "test = df[['bidSize3','bidSize2','bidSize1','bidSize0','askSize0','askSize1','askSize2','askSize3',\n",
    "           'askRate0','bidRate0','askRate0_-10','bidRate0_-10','y']].copy()"
   ]
  },
  {
   "cell_type": "code",
   "execution_count": null,
   "metadata": {},
   "outputs": [],
   "source": [
    "\n",
    "test['askSize0_-10'] = test['askSize0'] - test['askSize0'].diff(10)\n",
    "test['bidSize0_-10'] = test['bidSize0'] - test['bidSize0'].diff(10)\n",
    "test['askSize0_-20'] = test['askSize0'] - test['askSize0'].diff(20)\n",
    "test['bidSize0_-20'] = test['bidSize0'] - test['bidSize0'].diff(20)\n"
   ]
  },
  {
   "cell_type": "code",
   "execution_count": null,
   "metadata": {},
   "outputs": [],
   "source": [
    "test = test.drop_duplicates()"
   ]
  },
  {
   "cell_type": "code",
   "execution_count": null,
   "metadata": {
    "scrolled": false
   },
   "outputs": [],
   "source": [
    "xgbr.fit(X,y)"
   ]
  },
  {
   "cell_type": "code",
   "execution_count": null,
   "metadata": {},
   "outputs": [],
   "source": [
    "xgbr.score(df[['bidSize3', 'bidSize2', 'bidSize1', 'bidSize0', 'askSize0', 'askSize1',\n",
    "       'askSize2', 'askSize3']],df['y'].values.reshape(-1,))"
   ]
  },
  {
   "cell_type": "code",
   "execution_count": null,
   "metadata": {},
   "outputs": [],
   "source": [
    "import joblib\n",
    "#save model\n",
    "joblib.dump(xgbr, \"model.pkl\") \n",
    "\n",
    "#load saved model\n",
    "xgb = joblib.load(\"model.pkl\")\n",
    "\n"
   ]
  }
 ],
 "metadata": {
  "kernelspec": {
   "display_name": "Python 3",
   "language": "python",
   "name": "python3"
  },
  "language_info": {
   "codemirror_mode": {
    "name": "ipython",
    "version": 3
   },
   "file_extension": ".py",
   "mimetype": "text/x-python",
   "name": "python",
   "nbconvert_exporter": "python",
   "pygments_lexer": "ipython3",
   "version": "3.7.4"
  }
 },
 "nbformat": 4,
 "nbformat_minor": 2
}
