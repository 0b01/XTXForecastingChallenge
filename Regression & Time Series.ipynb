{
 "cells": [
  {
   "cell_type": "code",
   "execution_count": 1,
   "metadata": {},
   "outputs": [],
   "source": [
    "import numpy as np\n",
    "import pandas as pd\n",
    "import matplotlib.pyplot as plt\n",
    "%matplotlib inline\n",
    "\n",
    "pd.options.display.max_rows = 100"
   ]
  },
  {
   "cell_type": "code",
   "execution_count": 4,
   "metadata": {},
   "outputs": [
    {
     "data": {
      "text/html": [
       "<div>\n",
       "<style scoped>\n",
       "    .dataframe tbody tr th:only-of-type {\n",
       "        vertical-align: middle;\n",
       "    }\n",
       "\n",
       "    .dataframe tbody tr th {\n",
       "        vertical-align: top;\n",
       "    }\n",
       "\n",
       "    .dataframe thead th {\n",
       "        text-align: right;\n",
       "    }\n",
       "</style>\n",
       "<table border=\"1\" class=\"dataframe\">\n",
       "  <thead>\n",
       "    <tr style=\"text-align: right;\">\n",
       "      <th></th>\n",
       "      <th>askRate0</th>\n",
       "      <th>askRate1</th>\n",
       "      <th>askRate2</th>\n",
       "      <th>askRate3</th>\n",
       "      <th>askRate4</th>\n",
       "      <th>askRate5</th>\n",
       "      <th>askRate6</th>\n",
       "      <th>askRate7</th>\n",
       "      <th>askRate8</th>\n",
       "      <th>askRate9</th>\n",
       "      <th>askRate10</th>\n",
       "      <th>askRate11</th>\n",
       "      <th>askRate12</th>\n",
       "      <th>askRate13</th>\n",
       "      <th>askRate14</th>\n",
       "    </tr>\n",
       "  </thead>\n",
       "  <tbody>\n",
       "    <tr>\n",
       "      <th>count</th>\n",
       "      <td>2.999999e+06</td>\n",
       "      <td>2.999963e+06</td>\n",
       "      <td>2.999935e+06</td>\n",
       "      <td>2.999902e+06</td>\n",
       "      <td>2.999861e+06</td>\n",
       "      <td>2.999826e+06</td>\n",
       "      <td>2.999792e+06</td>\n",
       "      <td>2.999761e+06</td>\n",
       "      <td>2.999734e+06</td>\n",
       "      <td>2.999708e+06</td>\n",
       "      <td>2.999674e+06</td>\n",
       "      <td>2.999639e+06</td>\n",
       "      <td>2.999605e+06</td>\n",
       "      <td>2.999570e+06</td>\n",
       "      <td>2.999548e+06</td>\n",
       "    </tr>\n",
       "    <tr>\n",
       "      <th>mean</th>\n",
       "      <td>1.642373e+03</td>\n",
       "      <td>1.642880e+03</td>\n",
       "      <td>1.643383e+03</td>\n",
       "      <td>1.643886e+03</td>\n",
       "      <td>1.644388e+03</td>\n",
       "      <td>1.644890e+03</td>\n",
       "      <td>1.645393e+03</td>\n",
       "      <td>1.645898e+03</td>\n",
       "      <td>1.646407e+03</td>\n",
       "      <td>1.646922e+03</td>\n",
       "      <td>1.647454e+03</td>\n",
       "      <td>1.648006e+03</td>\n",
       "      <td>1.648580e+03</td>\n",
       "      <td>1.649173e+03</td>\n",
       "      <td>1.649775e+03</td>\n",
       "    </tr>\n",
       "    <tr>\n",
       "      <th>std</th>\n",
       "      <td>2.687644e+01</td>\n",
       "      <td>2.687656e+01</td>\n",
       "      <td>2.687569e+01</td>\n",
       "      <td>2.687492e+01</td>\n",
       "      <td>2.687398e+01</td>\n",
       "      <td>2.687318e+01</td>\n",
       "      <td>2.687216e+01</td>\n",
       "      <td>2.687124e+01</td>\n",
       "      <td>2.686977e+01</td>\n",
       "      <td>2.686768e+01</td>\n",
       "      <td>2.686483e+01</td>\n",
       "      <td>2.686029e+01</td>\n",
       "      <td>2.685219e+01</td>\n",
       "      <td>2.684282e+01</td>\n",
       "      <td>2.683629e+01</td>\n",
       "    </tr>\n",
       "    <tr>\n",
       "      <th>min</th>\n",
       "      <td>1.575500e+03</td>\n",
       "      <td>1.576000e+03</td>\n",
       "      <td>1.576500e+03</td>\n",
       "      <td>1.577000e+03</td>\n",
       "      <td>1.577500e+03</td>\n",
       "      <td>1.578000e+03</td>\n",
       "      <td>1.578500e+03</td>\n",
       "      <td>1.579000e+03</td>\n",
       "      <td>1.579500e+03</td>\n",
       "      <td>1.580000e+03</td>\n",
       "      <td>1.580500e+03</td>\n",
       "      <td>1.581000e+03</td>\n",
       "      <td>1.581500e+03</td>\n",
       "      <td>1.582000e+03</td>\n",
       "      <td>1.582500e+03</td>\n",
       "    </tr>\n",
       "    <tr>\n",
       "      <th>25%</th>\n",
       "      <td>1.622500e+03</td>\n",
       "      <td>1.623000e+03</td>\n",
       "      <td>1.623500e+03</td>\n",
       "      <td>1.624000e+03</td>\n",
       "      <td>1.624500e+03</td>\n",
       "      <td>1.625000e+03</td>\n",
       "      <td>1.625500e+03</td>\n",
       "      <td>1.626000e+03</td>\n",
       "      <td>1.626500e+03</td>\n",
       "      <td>1.627000e+03</td>\n",
       "      <td>1.627500e+03</td>\n",
       "      <td>1.628000e+03</td>\n",
       "      <td>1.629000e+03</td>\n",
       "      <td>1.629500e+03</td>\n",
       "      <td>1.630000e+03</td>\n",
       "    </tr>\n",
       "    <tr>\n",
       "      <th>50%</th>\n",
       "      <td>1.643500e+03</td>\n",
       "      <td>1.644000e+03</td>\n",
       "      <td>1.644500e+03</td>\n",
       "      <td>1.645000e+03</td>\n",
       "      <td>1.645500e+03</td>\n",
       "      <td>1.646000e+03</td>\n",
       "      <td>1.646500e+03</td>\n",
       "      <td>1.647000e+03</td>\n",
       "      <td>1.647500e+03</td>\n",
       "      <td>1.648000e+03</td>\n",
       "      <td>1.648500e+03</td>\n",
       "      <td>1.649000e+03</td>\n",
       "      <td>1.649500e+03</td>\n",
       "      <td>1.650000e+03</td>\n",
       "      <td>1.650500e+03</td>\n",
       "    </tr>\n",
       "    <tr>\n",
       "      <th>75%</th>\n",
       "      <td>1.660500e+03</td>\n",
       "      <td>1.661000e+03</td>\n",
       "      <td>1.661500e+03</td>\n",
       "      <td>1.662000e+03</td>\n",
       "      <td>1.662500e+03</td>\n",
       "      <td>1.663000e+03</td>\n",
       "      <td>1.663500e+03</td>\n",
       "      <td>1.664000e+03</td>\n",
       "      <td>1.664500e+03</td>\n",
       "      <td>1.665000e+03</td>\n",
       "      <td>1.665500e+03</td>\n",
       "      <td>1.666000e+03</td>\n",
       "      <td>1.666500e+03</td>\n",
       "      <td>1.667000e+03</td>\n",
       "      <td>1.667500e+03</td>\n",
       "    </tr>\n",
       "    <tr>\n",
       "      <th>max</th>\n",
       "      <td>1.709000e+03</td>\n",
       "      <td>1.709500e+03</td>\n",
       "      <td>1.710000e+03</td>\n",
       "      <td>1.710500e+03</td>\n",
       "      <td>1.711000e+03</td>\n",
       "      <td>1.711500e+03</td>\n",
       "      <td>1.712000e+03</td>\n",
       "      <td>1.712500e+03</td>\n",
       "      <td>1.713000e+03</td>\n",
       "      <td>1.713500e+03</td>\n",
       "      <td>1.714000e+03</td>\n",
       "      <td>1.714500e+03</td>\n",
       "      <td>1.715000e+03</td>\n",
       "      <td>1.715500e+03</td>\n",
       "      <td>1.716000e+03</td>\n",
       "    </tr>\n",
       "  </tbody>\n",
       "</table>\n",
       "</div>"
      ],
      "text/plain": [
       "           askRate0      askRate1      askRate2      askRate3      askRate4  \\\n",
       "count  2.999999e+06  2.999963e+06  2.999935e+06  2.999902e+06  2.999861e+06   \n",
       "mean   1.642373e+03  1.642880e+03  1.643383e+03  1.643886e+03  1.644388e+03   \n",
       "std    2.687644e+01  2.687656e+01  2.687569e+01  2.687492e+01  2.687398e+01   \n",
       "min    1.575500e+03  1.576000e+03  1.576500e+03  1.577000e+03  1.577500e+03   \n",
       "25%    1.622500e+03  1.623000e+03  1.623500e+03  1.624000e+03  1.624500e+03   \n",
       "50%    1.643500e+03  1.644000e+03  1.644500e+03  1.645000e+03  1.645500e+03   \n",
       "75%    1.660500e+03  1.661000e+03  1.661500e+03  1.662000e+03  1.662500e+03   \n",
       "max    1.709000e+03  1.709500e+03  1.710000e+03  1.710500e+03  1.711000e+03   \n",
       "\n",
       "           askRate5      askRate6      askRate7      askRate8      askRate9  \\\n",
       "count  2.999826e+06  2.999792e+06  2.999761e+06  2.999734e+06  2.999708e+06   \n",
       "mean   1.644890e+03  1.645393e+03  1.645898e+03  1.646407e+03  1.646922e+03   \n",
       "std    2.687318e+01  2.687216e+01  2.687124e+01  2.686977e+01  2.686768e+01   \n",
       "min    1.578000e+03  1.578500e+03  1.579000e+03  1.579500e+03  1.580000e+03   \n",
       "25%    1.625000e+03  1.625500e+03  1.626000e+03  1.626500e+03  1.627000e+03   \n",
       "50%    1.646000e+03  1.646500e+03  1.647000e+03  1.647500e+03  1.648000e+03   \n",
       "75%    1.663000e+03  1.663500e+03  1.664000e+03  1.664500e+03  1.665000e+03   \n",
       "max    1.711500e+03  1.712000e+03  1.712500e+03  1.713000e+03  1.713500e+03   \n",
       "\n",
       "          askRate10     askRate11     askRate12     askRate13     askRate14  \n",
       "count  2.999674e+06  2.999639e+06  2.999605e+06  2.999570e+06  2.999548e+06  \n",
       "mean   1.647454e+03  1.648006e+03  1.648580e+03  1.649173e+03  1.649775e+03  \n",
       "std    2.686483e+01  2.686029e+01  2.685219e+01  2.684282e+01  2.683629e+01  \n",
       "min    1.580500e+03  1.581000e+03  1.581500e+03  1.582000e+03  1.582500e+03  \n",
       "25%    1.627500e+03  1.628000e+03  1.629000e+03  1.629500e+03  1.630000e+03  \n",
       "50%    1.648500e+03  1.649000e+03  1.649500e+03  1.650000e+03  1.650500e+03  \n",
       "75%    1.665500e+03  1.666000e+03  1.666500e+03  1.667000e+03  1.667500e+03  \n",
       "max    1.714000e+03  1.714500e+03  1.715000e+03  1.715500e+03  1.716000e+03  "
      ]
     },
     "execution_count": 4,
     "metadata": {},
     "output_type": "execute_result"
    }
   ],
   "source": [
    "df.iloc[:,0:15].describe()"
   ]
  },
  {
   "cell_type": "code",
   "execution_count": 3,
   "metadata": {},
   "outputs": [],
   "source": [
    "df = pd.read_csv(\"data-training.csv\")\n",
    "df.iloc[:,15:30] = df.iloc[:,15:30].fillna(0)\n",
    "#df.iloc[:,45:60] = df.iloc[:,45:60].fillna(0)"
   ]
  },
  {
   "cell_type": "code",
   "execution_count": null,
   "metadata": {},
   "outputs": [],
   "source": [
    "df['price'] = (df['askRate0'] + df['bidRate0']) / 2"
   ]
  },
  {
   "cell_type": "code",
   "execution_count": null,
   "metadata": {},
   "outputs": [],
   "source": [
    "df['hit'] = (df['askRate0'] <= (df['bidRate0'] - df['bidRate0'].diff(1))) * 1\n",
    "df['lift'] = (df['bidRate0'] >= (df['askRate0'] - df['askRate0'].diff(1))) * 1"
   ]
  },
  {
   "cell_type": "code",
   "execution_count": null,
   "metadata": {},
   "outputs": [],
   "source": [
    "df = df.drop('priceDiff',axis=1)"
   ]
  },
  {
   "cell_type": "code",
   "execution_count": null,
   "metadata": {},
   "outputs": [],
   "source": [
    "\n",
    "df.loc[(df['hit']==1) | (df['lift']==1) ,'priceDiff'] = df.loc[(df['hit']==1) | (df['lift']==1) ,'price'].diff(1).values\n",
    "#df['priceDiff'] = df['priceDiff'].fillna(method='bfill')\n",
    "#df['priceDiff'] = df['priceDiff'].fillna(method='bfill')\n",
    "#df.loc[df['priceDiff'].isna()['priceDiff'] = df['priceDiff'].fillna(method='bfill')"
   ]
  },
  {
   "cell_type": "code",
   "execution_count": null,
   "metadata": {},
   "outputs": [],
   "source": [
    "df.loc[(df['hit']==1) | (df['lift']==1) ,'priceDiff'] = df.loc[(df['hit']==1) | (df['lift']==1) ,'price'].diff(1).values"
   ]
  },
  {
   "cell_type": "code",
   "execution_count": null,
   "metadata": {},
   "outputs": [],
   "source": [
    "df['priceDiff'].corr(df['y'])"
   ]
  },
  {
   "cell_type": "code",
   "execution_count": null,
   "metadata": {},
   "outputs": [],
   "source": [
    "df.loc[(df['hit']==1) | (df['lift']==1) ,'priceDiff'] = df.loc[(df['hit']==1) | (df['lift']==1) ,'price']"
   ]
  },
  {
   "cell_type": "code",
   "execution_count": null,
   "metadata": {},
   "outputs": [],
   "source": [
    "df.loc[(df['askRate0'].diff(1)!=0 )|(df['bidRate0'].diff(1)!=0 ),'priceDiff'] = df.loc[(df['askRate0'].diff(1)!=0 )|(df['bidRate0'].diff(1)!=0 ),'price'].diff(1)"
   ]
  },
  {
   "cell_type": "code",
   "execution_count": null,
   "metadata": {},
   "outputs": [],
   "source": [
    "df = df[df['priceDiff'].isna()==False]"
   ]
  },
  {
   "cell_type": "code",
   "execution_count": null,
   "metadata": {
    "scrolled": false
   },
   "outputs": [],
   "source": [
    "df['newLowerAsk'] = (df['askRate0'].diff(1) < 0) * 1\n",
    "df['newHigherBid'] = (df['bidRate0'].diff(1) > 0) * 1"
   ]
  },
  {
   "cell_type": "code",
   "execution_count": null,
   "metadata": {},
   "outputs": [],
   "source": [
    "df.loc[(df['askRate0'].diff(1) != 0) | (df['bidRate0'].diff(1) != 0),'price'].diff(1).corr(df['y'])"
   ]
  },
  {
   "cell_type": "code",
   "execution_count": null,
   "metadata": {},
   "outputs": [],
   "source": [
    "-0.07387245584852796"
   ]
  },
  {
   "cell_type": "code",
   "execution_count": null,
   "metadata": {
    "scrolled": true
   },
   "outputs": [],
   "source": [
    "from sklearn.model_selection import train_test_split\n",
    "\n",
    "features = ['priceDiff','askSize0','askSize1','askSize2',\n",
    "            'bidSize0','bidSize1','bidSize2','bidSize2','askRate0','bidRate0']\n",
    "\n",
    "temp = []\n",
    "for f in features:\n",
    "    temp += [f+\"-1\"]\n",
    "    df[f+\"-1\"] = df[f] - df[f].diff(1)\n",
    "\n",
    "y = df['y'].values.reshape(-1,)\n",
    "\n",
    "# X_train, = \n",
    "X_train, X_test, y_train, y_test = train_test_split(df[features].values.reshape(-1,len(features)), y, test_size=0.4)"
   ]
  },
  {
   "cell_type": "code",
   "execution_count": null,
   "metadata": {},
   "outputs": [],
   "source": [
    "from xgboost import XGBRegressor\n",
    "\n",
    "\n",
    "xgbr = XGBRegressor(n_estimators=100, max_depth=3, objective='reg:squarederror')"
   ]
  },
  {
   "cell_type": "code",
   "execution_count": null,
   "metadata": {},
   "outputs": [],
   "source": [
    "features = ['askRate0','askRate1','askRate2','bidRate0','bidRate1','bidRate2']\n",
    "\n",
    "\n",
    "for f in features:\n",
    "    temp += [f+\"-1\"]\n",
    "    df[f+\"-1\"] = df[f] - df[f].diff(1)\n",
    "\n",
    "features += temp\n",
    "    "
   ]
  },
  {
   "cell_type": "code",
   "execution_count": null,
   "metadata": {},
   "outputs": [],
   "source": [
    "X_train, X_test, y_train, y_test = train_test_split(df[features].values.reshape(-1,len(features)), y, test_size=0.4)"
   ]
  },
  {
   "cell_type": "code",
   "execution_count": null,
   "metadata": {
    "scrolled": true
   },
   "outputs": [],
   "source": [
    "df['priceDiff'].corr(df['y']) "
   ]
  },
  {
   "cell_type": "code",
   "execution_count": null,
   "metadata": {
    "scrolled": true
   },
   "outputs": [],
   "source": [
    "plt.scatter(df['priceDiff'],df['y'])"
   ]
  },
  {
   "cell_type": "code",
   "execution_count": null,
   "metadata": {},
   "outputs": [],
   "source": [
    "df['pressure0']  = df['askSize0'] / (df['askSize0'] + df['bidSize0']) \n",
    "df['pressure1']  = df['askSize1'] / (df['askSize1'] + df['bidSize1']) \n",
    "df['pressure2']  = df['askSize2'] / (df['askSize2'] + df['bidSize2']) \n",
    "df['pressure3']  = df['askSize3'] / (df['askSize3'] + df['bidSize3']) "
   ]
  },
  {
   "cell_type": "code",
   "execution_count": null,
   "metadata": {},
   "outputs": [],
   "source": [
    "(df['askSize0']-df['bidSize0'])"
   ]
  },
  {
   "cell_type": "code",
   "execution_count": null,
   "metadata": {},
   "outputs": [],
   "source": [
    "df['pressure3'].corr(df['y'])"
   ]
  },
  {
   "cell_type": "code",
   "execution_count": null,
   "metadata": {},
   "outputs": [],
   "source": [
    "df = df.iloc[:-34]"
   ]
  },
  {
   "cell_type": "code",
   "execution_count": null,
   "metadata": {
    "scrolled": false
   },
   "outputs": [],
   "source": [
    "plt.scatter(df['priceDiff'],df['y'])"
   ]
  },
  {
   "cell_type": "code",
   "execution_count": null,
   "metadata": {},
   "outputs": [],
   "source": [
    "df['pressure'] = df['askSize0'] / (df['askSize0']+df['bidSize0'])"
   ]
  },
  {
   "cell_type": "code",
   "execution_count": null,
   "metadata": {},
   "outputs": [],
   "source": [
    "df['pressure2'] = df['askSize2'] / (df['askSize2']+df['bidSize2'])"
   ]
  },
  {
   "cell_type": "code",
   "execution_count": null,
   "metadata": {},
   "outputs": [],
   "source": [
    "Xs = np.zeros((df.shape[0],len(featureIndexes)+4))\n",
    "Xs[:,:-4] = X\n",
    "Xs[:,-2] = df['pressure'].values\n",
    "Xs[:,-1] = df['priceDiff'].values\n",
    "Xs[:,-3] = df['pressure1'].values\n",
    "Xs[:,-4] = df['pressure2'].values"
   ]
  },
  {
   "cell_type": "code",
   "execution_count": null,
   "metadata": {},
   "outputs": [],
   "source": [
    "from sklearn.decomposition import PCA\n",
    "\n",
    "pca = PCA(whiten=True)\n",
    "\n",
    "featureIndexes = list(range(34,29,-1)) + list(range(15,20))\n",
    "X = pca.fit_transform(df.iloc[:,featureIndexes])"
   ]
  },
  {
   "cell_type": "code",
   "execution_count": null,
   "metadata": {},
   "outputs": [],
   "source": [
    "y = df['y'].values.reshape(-1,)"
   ]
  },
  {
   "cell_type": "code",
   "execution_count": null,
   "metadata": {
    "scrolled": true
   },
   "outputs": [],
   "source": [
    "from sklearn.linear_model import LinearRegression\n",
    "lr = LinearRegression()\n",
    "from sklearn.model_selection import cross_val_score\n",
    "\n",
    "scores = cross_val_score(lr,Xs,y, cv = 3)\n",
    "scores.mean()\n"
   ]
  },
  {
   "cell_type": "code",
   "execution_count": null,
   "metadata": {},
   "outputs": [],
   "source": [
    "lr.fit(Xs,y)"
   ]
  },
  {
   "cell_type": "code",
   "execution_count": null,
   "metadata": {},
   "outputs": [],
   "source": [
    "lr.score(Xs,y)"
   ]
  },
  {
   "cell_type": "code",
   "execution_count": null,
   "metadata": {},
   "outputs": [],
   "source": [
    "df['priceDiff']"
   ]
  },
  {
   "cell_type": "code",
   "execution_count": null,
   "metadata": {},
   "outputs": [],
   "source": [
    "df['vwap'] = 0\n",
    "df['totalVolume'] = 0\n",
    "for i in df.loc[(df['lift'] == 1)].index:\n",
    "    temp = np.array(df.loc[i])\n",
    "    temp2 = np.array(df.loc[i-1])\n",
    "    vwap = 0\n",
    "    totalVolume = 0\n",
    "    for j in range(15):\n",
    "        if temp[30] < temp2[j]:\n",
    "            break\n",
    "    totalVolume = temp2[15:15+j].sum()\n",
    "    vwap = (temp2[0:j] * temp2[15:15+j]).sum()\n",
    "\n",
    "    df.loc[i,'vwap'] = vwap/totalVolume\n"
   ]
  },
  {
   "cell_type": "code",
   "execution_count": null,
   "metadata": {
    "scrolled": true
   },
   "outputs": [],
   "source": [
    "for i in df.loc[(df['hit'] == 1)].index:\n",
    "    temp = np.array(df.loc[i])\n",
    "    temp2 = np.array(df.loc[i-1])\n",
    "\n",
    "    for j in range(15):\n",
    "        if temp[0] > temp2[30+j]:\n",
    "            break\n",
    "            \n",
    "\n",
    "    df.loc[i,'vwap'] = (temp2[30:30+j] * temp2[45:45+j]).sum() / temp2[45:45+j].sum()\n"
   ]
  },
  {
   "cell_type": "code",
   "execution_count": null,
   "metadata": {},
   "outputs": [],
   "source": [
    "df['pressure'] = df['askSize0'] / (df['askSize0'] + df['bidSize0'])"
   ]
  },
  {
   "cell_type": "code",
   "execution_count": null,
   "metadata": {},
   "outputs": [],
   "source": [
    "df['pressure'] = df['askSize0'] / (df['askSize0'] + df['bidSize0'])\n",
    "for x in range(1,30):\n",
    "    #df['askSize0_-'+str(x)] = df['askSize0'] - df['askSize0'].diff(x)\n",
    "    #df['bidSize0_-'+str(x)] = df['bidSize0'] - df['bidSize0'].diff(x)\n",
    "    df['pressure_-'+str(x)] = df['pressure'] - df['pressure'].diff(x)\n",
    "    \n"
   ]
  },
  {
   "cell_type": "code",
   "execution_count": null,
   "metadata": {},
   "outputs": [],
   "source": [
    "#normalise Volumes\n",
    "#restrict to top 6 volumes\n",
    "\n",
    "maxVolumes = {}\n",
    "\n",
    "\n",
    "for i in range(6):\n",
    "    maxVolumes[\"ask\"+str(i)] = df.iloc[:,15+i].max()\n",
    "    df.iloc[:,15+i] /= maxVolumes[\"ask\"+str(i)]\n",
    "    maxVolumes[\"bid\"+str(i)] = df.iloc[:,45+i].max()\n",
    "    df.iloc[:,45+i] /= maxVolumes[\"bid\"+str(i)]"
   ]
  },
  {
   "cell_type": "code",
   "execution_count": null,
   "metadata": {},
   "outputs": [],
   "source": [
    "for i in range(1,11):\n",
    "    df['priceDiff'+str(i)] = df['price'].diff(i)\n",
    "    \n",
    "maxPipDeviation = max(df.iloc[:,-10:].abs().max())\n",
    "\n",
    "for i in range(1,11):\n",
    "    df['priceDiff'+str(i)] /= maxPipDeviation"
   ]
  },
  {
   "cell_type": "code",
   "execution_count": null,
   "metadata": {},
   "outputs": [],
   "source": [
    "df['diffPricePast10Mean'] = pd.DataFrame(np.mean(np.array(df[['priceDiff2', 'priceDiff3', 'priceDiff4', 'priceDiff5', 'priceDiff6',\n",
    "       'priceDiff7', 'priceDiff8', 'priceDiff9', 'priceDiff10']]),axis=1))"
   ]
  },
  {
   "cell_type": "code",
   "execution_count": null,
   "metadata": {
    "scrolled": true
   },
   "outputs": [],
   "source": [
    "df.columns"
   ]
  },
  {
   "cell_type": "code",
   "execution_count": null,
   "metadata": {},
   "outputs": [],
   "source": [
    "#featureIndexes = list(range(45,46))+list(range(15,16))\n",
    "featureList = ['pressure','askSize0','bidSize0','askSize1','bidSize1','askSize2','bidSize2','askSize3','bidSize3']\n",
    "X = df.loc[11:,featureList].values.reshape(-1,len(featureList))\n",
    "y = df.loc[11:,'y'].values.reshape(-1,)"
   ]
  },
  {
   "cell_type": "code",
   "execution_count": null,
   "metadata": {},
   "outputs": [],
   "source": [
    "df['pressure'].corr(df['askSize0'])"
   ]
  },
  {
   "cell_type": "code",
   "execution_count": null,
   "metadata": {},
   "outputs": [],
   "source": [
    "lr.fit(X,y)\n",
    "lr.coef_"
   ]
  },
  {
   "cell_type": "code",
   "execution_count": null,
   "metadata": {},
   "outputs": [],
   "source": [
    "mid = ((df['askRate0'] + df['bidRate0']) / 2).median()\n",
    "\n",
    "df['askRate0'] -= mid\n",
    "df['bidRate0'] -= mid\n",
    "maxPipDeviation = max(df['askRate0'].abs().max(), df['bidRate0'].abs().max())\n",
    "\n",
    "df['askRate0'] /= maxPipDeviation\n",
    "df['bidRate0'] /= maxPipDeviation"
   ]
  },
  {
   "cell_type": "code",
   "execution_count": null,
   "metadata": {},
   "outputs": [],
   "source": [
    "df['bidRate0'].corr(df['askRate0'])"
   ]
  },
  {
   "cell_type": "code",
   "execution_count": null,
   "metadata": {},
   "outputs": [],
   "source": [
    "df['askRate0'].describe()"
   ]
  },
  {
   "cell_type": "code",
   "execution_count": null,
   "metadata": {},
   "outputs": [],
   "source": [
    "#feature engineering - price\n",
    "for x in range(1,16):\n",
    "    df['askRate0Diff'+str(x)] = df['askRate0'].diff(x)\n",
    "    df['bidRate0Diff'+str(x)] = df['bidRate0'].diff(x)"
   ]
  },
  {
   "cell_type": "code",
   "execution_count": null,
   "metadata": {},
   "outputs": [],
   "source": [
    "#indicators \n",
    "#traded"
   ]
  },
  {
   "cell_type": "markdown",
   "metadata": {},
   "source": [
    "$ \\sum \\sum P(X,Y) log( \\frac{ P(X,Y)} {P(X) P(Y)} )$"
   ]
  },
  {
   "cell_type": "code",
   "execution_count": null,
   "metadata": {},
   "outputs": [],
   "source": [
    "df.corr(df['y'])"
   ]
  },
  {
   "cell_type": "code",
   "execution_count": null,
   "metadata": {
    "scrolled": false
   },
   "outputs": [],
   "source": [
    "#vwap, indicator traded \n",
    "\n",
    "df.iloc[30:32][['askRate0','askSize0','bidSize0','bidRate0','askRate1','askSize1','bidRate1','bidSize1']]"
   ]
  },
  {
   "cell_type": "code",
   "execution_count": null,
   "metadata": {
    "scrolled": false
   },
   "outputs": [],
   "source": [
    "corrs = df.corrwith(df['y']).abs().sort_values(ascending=False)"
   ]
  },
  {
   "cell_type": "code",
   "execution_count": null,
   "metadata": {
    "scrolled": false
   },
   "outputs": [],
   "source": [
    "corrs"
   ]
  },
  {
   "cell_type": "code",
   "execution_count": null,
   "metadata": {},
   "outputs": [],
   "source": []
  },
  {
   "cell_type": "code",
   "execution_count": null,
   "metadata": {},
   "outputs": [],
   "source": [
    "features = corrs.index[1:81]\n",
    "X_train = df.loc[16:,features]\n",
    "for x in features:\n",
    "    X_train[x] -= X_train[x].mean()\n",
    "    X_train[x] /= X_train[x].std()\n",
    "y_train = df.loc[16:,'y']"
   ]
  },
  {
   "cell_type": "code",
   "execution_count": null,
   "metadata": {},
   "outputs": [],
   "source": [
    "from sklearn.linear_model import LinearRegression\n",
    "\n",
    "lr = LinearRegression()\n",
    "\n",
    "from sklearn.model_selection import cross_val_score\n",
    "\n",
    "scores = cross_val_score(lr, X_train, y_train, cv = 6)\n",
    "scores.mean()"
   ]
  },
  {
   "cell_type": "code",
   "execution_count": null,
   "metadata": {},
   "outputs": [],
   "source": [
    "lr.fit(X_train,y_train)\n",
    "print(\"Score\",lr.score(X_train,y_train))\n",
    "coefs = {}\n",
    "for x in range(len(lr.coef_)):\n",
    "    coefs[features[x]] = lr.coef_[x]\n"
   ]
  },
  {
   "cell_type": "code",
   "execution_count": null,
   "metadata": {},
   "outputs": [],
   "source": [
    "coefs "
   ]
  },
  {
   "cell_type": "code",
   "execution_count": null,
   "metadata": {},
   "outputs": [],
   "source": [
    "plt.bar(np.array(df['askRate0Diff1'].value_counts().index),np.log(df['askRate0Diff1'].value_counts().values))"
   ]
  },
  {
   "cell_type": "code",
   "execution_count": null,
   "metadata": {},
   "outputs": [],
   "source": [
    "features = ['askSize0','bidSize0','askSize1','bidSize1','askSize2','bidSize2']\n",
    "X_train = df[features].values.reshape(-1,len(features))"
   ]
  },
  {
   "cell_type": "code",
   "execution_count": null,
   "metadata": {},
   "outputs": [],
   "source": [
    "model.fit(X_train,df['y'].values.reshape(-1,))"
   ]
  },
  {
   "cell_type": "code",
   "execution_count": null,
   "metadata": {},
   "outputs": [],
   "source": [
    "from sklearn.linear_model import LinearRegression\n",
    "from sklearn.model_selection import cross_val_score\n",
    "\n",
    "lr = LinearRegression()\n",
    "cross_val_score(lr,df.loc[init+list(df.columns[61:])].values.reshape(-1,len(init+list(df.columns[61:]))),df.loc[2:,'y'].values.reshape(-1,),cv=3)\n"
   ]
  },
  {
   "cell_type": "code",
   "execution_count": null,
   "metadata": {},
   "outputs": [],
   "source": [
    "features2 = features + [x+\"diff1\" for x in features]+[x+\"diff2\" for x in features]"
   ]
  },
  {
   "cell_type": "code",
   "execution_count": null,
   "metadata": {
    "scrolled": true
   },
   "outputs": [],
   "source": [
    "import xgboost as xgb\n",
    "from xgboost import XGBRegressor\n",
    "xgbr = XGBRegressor(objective='reg:squarederror',max_depth=2)\n",
    "\n",
    "\n",
    "from sklearn.model_selection import cross_val_score\n",
    "scores = cross_val_score(xgbr,df[init+list(df.columns[61:])].values.reshape(-1,len(init+list(df.columns[61:]))),df['y'].values.reshape(-1,),cv=2, scoring='r2')\n",
    "scores.mean()\n",
    "\n",
    "# xgbr.fit(df[features2].values.reshape(-1,len(features2)),df['y'].values.reshape(-1,))\n"
   ]
  },
  {
   "cell_type": "code",
   "execution_count": null,
   "metadata": {
    "scrolled": false
   },
   "outputs": [],
   "source": [
    "from sklearn.externals import joblib\n",
    "joblib.dump(xgbr,\"model.joblib\")"
   ]
  },
  {
   "cell_type": "code",
   "execution_count": null,
   "metadata": {},
   "outputs": [],
   "source": [
    "from sklearn.metrics import r2_score\n",
    "r2_score(df['y'],xgbr.predict(df[features2].values.reshape(-1,len(features2))))"
   ]
  },
  {
   "cell_type": "code",
   "execution_count": null,
   "metadata": {},
   "outputs": [],
   "source": [
    "from sklearn.model_selection import cross_val_score\n",
    "scores = cross_val_score(xgbr,df[features2],df['y'].values.reshape(-1,),cv=6, scoring='r2')"
   ]
  },
  {
   "cell_type": "code",
   "execution_count": null,
   "metadata": {},
   "outputs": [],
   "source": [
    "#pearson correlation\n",
    "correlations = {}\n",
    "for feature in df.columns:\n",
    "    correlations[feature] = abs(df[feature].corr(df['y'],method=\"pearson\"))\n",
    "\n",
    "index = sorted(correlations.items(), key=(lambda kv: kv[1]))\n"
   ]
  },
  {
   "cell_type": "code",
   "execution_count": null,
   "metadata": {},
   "outputs": [],
   "source": [
    "#spearman correlation\n",
    "correlations2 = {}\n",
    "for feature in df.columns:\n",
    "    correlations2[feature] = abs(df[feature].corr(df['y'],method=\"spearman\"))\n",
    "\n",
    "index2 = sorted(correlations2.items(), key=(lambda kv: kv[1]))\n"
   ]
  },
  {
   "cell_type": "code",
   "execution_count": null,
   "metadata": {},
   "outputs": [],
   "source": [
    "#weighed rank of spearman, pearson\n",
    "rank = {}\n",
    "for x in range(len(index)):\n",
    "    rank[index[x][0]] = x \n",
    "\n",
    "for x in range(len(index2)):\n",
    "    rank[index2[x][0]] += x \n",
    "    rank[index2[x][0]] /= 2\n",
    "\n",
    "rank = sorted(rank.items(), key=(lambda kv: kv[1]))\n",
    "\n",
    "    "
   ]
  },
  {
   "cell_type": "code",
   "execution_count": null,
   "metadata": {},
   "outputs": [],
   "source": [
    "features = [x[0] for x in index if x[1] > 0.01][:-1] #select features above certain threshold\n",
    "features2 = [x[0] for x in index2 if x[1] > 0.01][:-1]\n",
    "features3 = [x[0] for x in rank if x[1] > 40][:-1]\n"
   ]
  },
  {
   "cell_type": "code",
   "execution_count": null,
   "metadata": {
    "scrolled": false
   },
   "outputs": [],
   "source": [
    "import xgboost as xgb\n",
    "from xgboost import XGBRegressor\n",
    "xgbr = XGBRegressor(objective='reg:squarederror',max_depth=2)\n",
    "xgbr.fit(df[features3], df['y'].values.reshape(-1,))\n"
   ]
  },
  {
   "cell_type": "code",
   "execution_count": null,
   "metadata": {},
   "outputs": [],
   "source": [
    "prunedFeatures = {}\n",
    "for x in range(len(features3)):\n",
    "    if xgbr.feature_importances_[x] != 0:\n",
    "        prunedFeatures[features3[x]] = xgbr.feature_importances_[x]\n",
    "\n",
    "prunedFeatures = sorted(prunedFeatures.items(), key=(lambda kv: kv[1]))\n",
    "len(prunedFeatures)\n",
    "\n",
    "#['bidRate3','bidSize4', 'bidSize2', 'askSize6', 'askSize3', 'askSize5', 'bidSize1', 'askSize2', 'askSize4', 'askSize1', 'bidSize0', 'askSize0']"
   ]
  },
  {
   "cell_type": "code",
   "execution_count": null,
   "metadata": {},
   "outputs": [],
   "source": [
    "features = [x[0] for x in prunedFeatures]"
   ]
  },
  {
   "cell_type": "code",
   "execution_count": null,
   "metadata": {},
   "outputs": [],
   "source": [
    "features3[-9:]"
   ]
  },
  {
   "cell_type": "code",
   "execution_count": null,
   "metadata": {},
   "outputs": [],
   "source": [
    "#0.015662072225779106\n",
    "scores.mean()"
   ]
  },
  {
   "cell_type": "code",
   "execution_count": null,
   "metadata": {},
   "outputs": [],
   "source": [
    "df_copy = df.copy()\n",
    "for feature in df.columns:\n",
    "    df_copy[feature] -= df_copy[feature].mean()\n",
    "    df_copy[feature] /= df_copy[feature].std()"
   ]
  },
  {
   "cell_type": "code",
   "execution_count": null,
   "metadata": {},
   "outputs": [],
   "source": [
    "from sklearn.linear_model import LinearRegression\n",
    "from sklearn.model_selection import cross_val_score, KFold\n",
    "\n",
    "#n = \n",
    "\n",
    "df_copy = df.dropna()\n",
    "\n",
    "features = ['askSize0','bidSize0','askSize1','bidSize1','askSize2','bidSize2','askSize3','bidSize3']\n",
    "lr = LinearRegression()\n",
    "cross_val_score(lr, df_copy.loc[:, features], df_copy['y'], cv =6).mean()"
   ]
  },
  {
   "cell_type": "code",
   "execution_count": null,
   "metadata": {},
   "outputs": [],
   "source": [
    "df_copy = df_copy[features]\n",
    "for x in features:\n",
    "    df_copy['prior'+str(x)] = df_copy[x]-df_copy[x].diff(1)"
   ]
  }
 ],
 "metadata": {
  "kernelspec": {
   "display_name": "Python 3",
   "language": "python",
   "name": "python3"
  },
  "language_info": {
   "codemirror_mode": {
    "name": "ipython",
    "version": 3
   },
   "file_extension": ".py",
   "mimetype": "text/x-python",
   "name": "python",
   "nbconvert_exporter": "python",
   "pygments_lexer": "ipython3",
   "version": "3.7.4"
  }
 },
 "nbformat": 4,
 "nbformat_minor": 2
}
